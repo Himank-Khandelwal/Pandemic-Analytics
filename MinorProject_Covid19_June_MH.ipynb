{
 "cells": [
  {
   "cell_type": "markdown",
   "metadata": {},
   "source": [
    "<b>IMPORTING THE PACKAGES</b>"
   ]
  },
  {
   "cell_type": "code",
   "execution_count": 1,
   "metadata": {},
   "outputs": [],
   "source": [
    "import pandas as pd\n",
    "import matplotlib.pyplot as plt\n",
    "import seaborn as sns\n",
    "import numpy as np\n",
    "from datetime import date"
   ]
  },
  {
   "cell_type": "markdown",
   "metadata": {},
   "source": [
    "<b>READING THE FILE AND PRINTING THE TOP 5 ROWS OF THE DATASET</b>"
   ]
  },
  {
   "cell_type": "code",
   "execution_count": 113,
   "metadata": {
    "scrolled": false
   },
   "outputs": [
    {
     "name": "stderr",
     "output_type": "stream",
     "text": [
      "C:\\Users\\Himank Khandelwal\\anaconda3\\lib\\site-packages\\IPython\\core\\interactiveshell.py:3063: DtypeWarning: Columns (11,15) have mixed types.Specify dtype option on import or set low_memory=False.\n",
      "  interactivity=interactivity, compiler=compiler, result=result)\n"
     ]
    },
    {
     "data": {
      "text/html": [
       "<div>\n",
       "<style scoped>\n",
       "    .dataframe tbody tr th:only-of-type {\n",
       "        vertical-align: middle;\n",
       "    }\n",
       "\n",
       "    .dataframe tbody tr th {\n",
       "        vertical-align: top;\n",
       "    }\n",
       "\n",
       "    .dataframe thead th {\n",
       "        text-align: right;\n",
       "    }\n",
       "</style>\n",
       "<table border=\"1\" class=\"dataframe\">\n",
       "  <thead>\n",
       "    <tr style=\"text-align: right;\">\n",
       "      <th></th>\n",
       "      <th>Entry_ID</th>\n",
       "      <th>State Patient Number</th>\n",
       "      <th>Date_Announced</th>\n",
       "      <th>Age_Bracket</th>\n",
       "      <th>Gender</th>\n",
       "      <th>Detected_City</th>\n",
       "      <th>Detected_District</th>\n",
       "      <th>Detected_State</th>\n",
       "      <th>State_code</th>\n",
       "      <th>Num_Cases</th>\n",
       "      <th>Current_Status</th>\n",
       "      <th>Contracted from which Patient (Suspected)</th>\n",
       "      <th>Notes</th>\n",
       "      <th>Source_1</th>\n",
       "      <th>Source_2</th>\n",
       "      <th>Source_3</th>\n",
       "      <th>Nationality</th>\n",
       "      <th>Type of transmission</th>\n",
       "      <th>Status Change Date</th>\n",
       "      <th>Patient Number</th>\n",
       "    </tr>\n",
       "  </thead>\n",
       "  <tbody>\n",
       "    <tr>\n",
       "      <th>0</th>\n",
       "      <td>43275</td>\n",
       "      <td>NaN</td>\n",
       "      <td>01/06/2020</td>\n",
       "      <td>NaN</td>\n",
       "      <td>NaN</td>\n",
       "      <td>NaN</td>\n",
       "      <td>Unassigned</td>\n",
       "      <td>State Unassigned</td>\n",
       "      <td>UN</td>\n",
       "      <td>139</td>\n",
       "      <td>Hospitalized</td>\n",
       "      <td>NaN</td>\n",
       "      <td>NaN</td>\n",
       "      <td>mohfw.gov.in</td>\n",
       "      <td>NaN</td>\n",
       "      <td>NaN</td>\n",
       "      <td>NaN</td>\n",
       "      <td>NaN</td>\n",
       "      <td>NaN</td>\n",
       "      <td>72200.0</td>\n",
       "    </tr>\n",
       "    <tr>\n",
       "      <th>1</th>\n",
       "      <td>43276</td>\n",
       "      <td>NaN</td>\n",
       "      <td>01/06/2020</td>\n",
       "      <td>NaN</td>\n",
       "      <td>NaN</td>\n",
       "      <td>NaN</td>\n",
       "      <td>Raigarh</td>\n",
       "      <td>Chhattisgarh</td>\n",
       "      <td>CT</td>\n",
       "      <td>2</td>\n",
       "      <td>Hospitalized</td>\n",
       "      <td>NaN</td>\n",
       "      <td>NaN</td>\n",
       "      <td>https://twitter.com/HealthCgGov/status/1267299...</td>\n",
       "      <td>NaN</td>\n",
       "      <td>NaN</td>\n",
       "      <td>NaN</td>\n",
       "      <td>NaN</td>\n",
       "      <td>NaN</td>\n",
       "      <td>72201.0</td>\n",
       "    </tr>\n",
       "    <tr>\n",
       "      <th>2</th>\n",
       "      <td>43277</td>\n",
       "      <td>NaN</td>\n",
       "      <td>01/06/2020</td>\n",
       "      <td>NaN</td>\n",
       "      <td>NaN</td>\n",
       "      <td>NaN</td>\n",
       "      <td>Durg</td>\n",
       "      <td>Chhattisgarh</td>\n",
       "      <td>CT</td>\n",
       "      <td>1</td>\n",
       "      <td>Hospitalized</td>\n",
       "      <td>NaN</td>\n",
       "      <td>NaN</td>\n",
       "      <td>https://twitter.com/HealthCgGov/status/1267299...</td>\n",
       "      <td>NaN</td>\n",
       "      <td>NaN</td>\n",
       "      <td>NaN</td>\n",
       "      <td>NaN</td>\n",
       "      <td>NaN</td>\n",
       "      <td>72202.0</td>\n",
       "    </tr>\n",
       "    <tr>\n",
       "      <th>3</th>\n",
       "      <td>43278</td>\n",
       "      <td>NaN</td>\n",
       "      <td>01/06/2020</td>\n",
       "      <td>NaN</td>\n",
       "      <td>NaN</td>\n",
       "      <td>NaN</td>\n",
       "      <td>Rajnandgaon</td>\n",
       "      <td>Chhattisgarh</td>\n",
       "      <td>CT</td>\n",
       "      <td>1</td>\n",
       "      <td>Hospitalized</td>\n",
       "      <td>NaN</td>\n",
       "      <td>NaN</td>\n",
       "      <td>https://twitter.com/HealthCgGov/status/1267299...</td>\n",
       "      <td>NaN</td>\n",
       "      <td>NaN</td>\n",
       "      <td>NaN</td>\n",
       "      <td>NaN</td>\n",
       "      <td>NaN</td>\n",
       "      <td>72203.0</td>\n",
       "    </tr>\n",
       "    <tr>\n",
       "      <th>4</th>\n",
       "      <td>43279</td>\n",
       "      <td>NaN</td>\n",
       "      <td>01/06/2020</td>\n",
       "      <td>NaN</td>\n",
       "      <td>NaN</td>\n",
       "      <td>NaN</td>\n",
       "      <td>Mahasamund</td>\n",
       "      <td>Chhattisgarh</td>\n",
       "      <td>CT</td>\n",
       "      <td>1</td>\n",
       "      <td>Hospitalized</td>\n",
       "      <td>NaN</td>\n",
       "      <td>NaN</td>\n",
       "      <td>https://twitter.com/HealthCgGov/status/1267299...</td>\n",
       "      <td>NaN</td>\n",
       "      <td>NaN</td>\n",
       "      <td>NaN</td>\n",
       "      <td>NaN</td>\n",
       "      <td>NaN</td>\n",
       "      <td>72204.0</td>\n",
       "    </tr>\n",
       "  </tbody>\n",
       "</table>\n",
       "</div>"
      ],
      "text/plain": [
       "   Entry_ID State Patient Number Date_Announced Age_Bracket Gender  \\\n",
       "0     43275                  NaN     01/06/2020         NaN    NaN   \n",
       "1     43276                  NaN     01/06/2020         NaN    NaN   \n",
       "2     43277                  NaN     01/06/2020         NaN    NaN   \n",
       "3     43278                  NaN     01/06/2020         NaN    NaN   \n",
       "4     43279                  NaN     01/06/2020         NaN    NaN   \n",
       "\n",
       "  Detected_City Detected_District    Detected_State State_code  Num_Cases  \\\n",
       "0           NaN        Unassigned  State Unassigned         UN        139   \n",
       "1           NaN           Raigarh      Chhattisgarh         CT          2   \n",
       "2           NaN              Durg      Chhattisgarh         CT          1   \n",
       "3           NaN       Rajnandgaon      Chhattisgarh         CT          1   \n",
       "4           NaN        Mahasamund      Chhattisgarh         CT          1   \n",
       "\n",
       "  Current_Status Contracted from which Patient (Suspected) Notes  \\\n",
       "0   Hospitalized                                       NaN   NaN   \n",
       "1   Hospitalized                                       NaN   NaN   \n",
       "2   Hospitalized                                       NaN   NaN   \n",
       "3   Hospitalized                                       NaN   NaN   \n",
       "4   Hospitalized                                       NaN   NaN   \n",
       "\n",
       "                                            Source_1 Source_2 Source_3  \\\n",
       "0                                       mohfw.gov.in      NaN      NaN   \n",
       "1  https://twitter.com/HealthCgGov/status/1267299...      NaN      NaN   \n",
       "2  https://twitter.com/HealthCgGov/status/1267299...      NaN      NaN   \n",
       "3  https://twitter.com/HealthCgGov/status/1267299...      NaN      NaN   \n",
       "4  https://twitter.com/HealthCgGov/status/1267299...      NaN      NaN   \n",
       "\n",
       "   Nationality  Type of transmission  Status Change Date  Patient Number  \n",
       "0          NaN                   NaN                 NaN         72200.0  \n",
       "1          NaN                   NaN                 NaN         72201.0  \n",
       "2          NaN                   NaN                 NaN         72202.0  \n",
       "3          NaN                   NaN                 NaN         72203.0  \n",
       "4          NaN                   NaN                 NaN         72204.0  "
      ]
     },
     "execution_count": 113,
     "metadata": {},
     "output_type": "execute_result"
    }
   ],
   "source": [
    "covidData = pd.read_csv('RawData.csv')\n",
    "covidData.head()"
   ]
  },
  {
   "cell_type": "markdown",
   "metadata": {},
   "source": [
    "<b>SHAPE OF THE DATASET</b>"
   ]
  },
  {
   "cell_type": "code",
   "execution_count": 3,
   "metadata": {
    "scrolled": false
   },
   "outputs": [
    {
     "data": {
      "text/plain": [
       "(51582, 20)"
      ]
     },
     "execution_count": 3,
     "metadata": {},
     "output_type": "execute_result"
    }
   ],
   "source": [
    "covidData.shape"
   ]
  },
  {
   "cell_type": "markdown",
   "metadata": {},
   "source": [
    "<b>NAME OF THE COLUMNS IN THE DATASET</b>"
   ]
  },
  {
   "cell_type": "code",
   "execution_count": 4,
   "metadata": {
    "scrolled": true
   },
   "outputs": [
    {
     "data": {
      "text/plain": [
       "Index(['Entry_ID', 'State Patient Number', 'Date_Announced', 'Age_Bracket',\n",
       "       'Gender', 'Detected_City', 'Detected_District', 'Detected_State',\n",
       "       'State_code', 'Num_Cases', 'Current_Status',\n",
       "       'Contracted from which Patient (Suspected)', 'Notes', 'Source_1',\n",
       "       'Source_2', 'Source_3', 'Nationality', 'Type of transmission',\n",
       "       'Status Change Date', 'Patient Number'],\n",
       "      dtype='object')"
      ]
     },
     "execution_count": 4,
     "metadata": {},
     "output_type": "execute_result"
    }
   ],
   "source": [
    "covidData.columns"
   ]
  },
  {
   "cell_type": "markdown",
   "metadata": {},
   "source": [
    "<b>CONVERTING Date_Announced FIELD TO DATETIME OBJECT</b>"
   ]
  },
  {
   "cell_type": "code",
   "execution_count": 5,
   "metadata": {},
   "outputs": [],
   "source": [
    "covidData['Date_Announced']=pd.to_datetime(covidData.Date_Announced)"
   ]
  },
  {
   "cell_type": "markdown",
   "metadata": {},
   "source": [
    "<b>USE OF INFO FUNCTION</b>"
   ]
  },
  {
   "cell_type": "code",
   "execution_count": 6,
   "metadata": {},
   "outputs": [
    {
     "name": "stdout",
     "output_type": "stream",
     "text": [
      "<class 'pandas.core.frame.DataFrame'>\n",
      "RangeIndex: 51582 entries, 0 to 51581\n",
      "Data columns (total 20 columns):\n",
      " #   Column                                     Non-Null Count  Dtype         \n",
      "---  ------                                     --------------  -----         \n",
      " 0   Entry_ID                                   51582 non-null  int64         \n",
      " 1   State Patient Number                       18998 non-null  object        \n",
      " 2   Date_Announced                             51582 non-null  datetime64[ns]\n",
      " 3   Age_Bracket                                18548 non-null  object        \n",
      " 4   Gender                                     18600 non-null  object        \n",
      " 5   Detected_City                              5405 non-null   object        \n",
      " 6   Detected_District                          50854 non-null  object        \n",
      " 7   Detected_State                             51581 non-null  object        \n",
      " 8   State_code                                 51581 non-null  object        \n",
      " 9   Num_Cases                                  51582 non-null  int64         \n",
      " 10  Current_Status                             51582 non-null  object        \n",
      " 11  Contracted from which Patient (Suspected)  9 non-null      object        \n",
      " 12  Notes                                      12816 non-null  object        \n",
      " 13  Source_1                                   49676 non-null  object        \n",
      " 14  Source_2                                   766 non-null    object        \n",
      " 15  Source_3                                   5 non-null      object        \n",
      " 16  Nationality                                0 non-null      float64       \n",
      " 17  Type of transmission                       0 non-null      float64       \n",
      " 18  Status Change Date                         0 non-null      float64       \n",
      " 19  Patient Number                             28634 non-null  float64       \n",
      "dtypes: datetime64[ns](1), float64(4), int64(2), object(13)\n",
      "memory usage: 7.9+ MB\n"
     ]
    }
   ],
   "source": [
    "covidData.info()"
   ]
  },
  {
   "cell_type": "markdown",
   "metadata": {},
   "source": [
    "<b>ONLY KEEPING THE RELEVANT COLUMNS IN THE DATASET</b>"
   ]
  },
  {
   "cell_type": "code",
   "execution_count": 7,
   "metadata": {},
   "outputs": [],
   "source": [
    "covidData = covidData[['Entry_ID','Date_Announced','Detected_District','Detected_State','Num_Cases','Current_Status']]"
   ]
  },
  {
   "cell_type": "code",
   "execution_count": 8,
   "metadata": {},
   "outputs": [
    {
     "name": "stdout",
     "output_type": "stream",
     "text": [
      "<class 'pandas.core.frame.DataFrame'>\n",
      "RangeIndex: 51582 entries, 0 to 51581\n",
      "Data columns (total 6 columns):\n",
      " #   Column             Non-Null Count  Dtype         \n",
      "---  ------             --------------  -----         \n",
      " 0   Entry_ID           51582 non-null  int64         \n",
      " 1   Date_Announced     51582 non-null  datetime64[ns]\n",
      " 2   Detected_District  50854 non-null  object        \n",
      " 3   Detected_State     51581 non-null  object        \n",
      " 4   Num_Cases          51582 non-null  int64         \n",
      " 5   Current_Status     51582 non-null  object        \n",
      "dtypes: datetime64[ns](1), int64(2), object(3)\n",
      "memory usage: 2.4+ MB\n"
     ]
    }
   ],
   "source": [
    "covidData.info()"
   ]
  },
  {
   "cell_type": "markdown",
   "metadata": {},
   "source": [
    "<b>GETTING THE DATA OF THE MAHARASHTRA<\\b>"
   ]
  },
  {
   "cell_type": "code",
   "execution_count": 9,
   "metadata": {},
   "outputs": [
    {
     "name": "stdout",
     "output_type": "stream",
     "text": [
      "(2167, 6)\n"
     ]
    },
    {
     "data": {
      "text/html": [
       "<div>\n",
       "<style scoped>\n",
       "    .dataframe tbody tr th:only-of-type {\n",
       "        vertical-align: middle;\n",
       "    }\n",
       "\n",
       "    .dataframe tbody tr th {\n",
       "        vertical-align: top;\n",
       "    }\n",
       "\n",
       "    .dataframe thead th {\n",
       "        text-align: right;\n",
       "    }\n",
       "</style>\n",
       "<table border=\"1\" class=\"dataframe\">\n",
       "  <thead>\n",
       "    <tr style=\"text-align: right;\">\n",
       "      <th></th>\n",
       "      <th>Entry_ID</th>\n",
       "      <th>Date_Announced</th>\n",
       "      <th>Detected_District</th>\n",
       "      <th>Detected_State</th>\n",
       "      <th>Num_Cases</th>\n",
       "      <th>Current_Status</th>\n",
       "    </tr>\n",
       "  </thead>\n",
       "  <tbody>\n",
       "    <tr>\n",
       "      <th>739</th>\n",
       "      <td>44021</td>\n",
       "      <td>2020-01-06</td>\n",
       "      <td>Akola</td>\n",
       "      <td>Maharashtra</td>\n",
       "      <td>7</td>\n",
       "      <td>Recovered</td>\n",
       "    </tr>\n",
       "    <tr>\n",
       "      <th>740</th>\n",
       "      <td>44022</td>\n",
       "      <td>2020-01-06</td>\n",
       "      <td>Aurangabad</td>\n",
       "      <td>Maharashtra</td>\n",
       "      <td>26</td>\n",
       "      <td>Recovered</td>\n",
       "    </tr>\n",
       "    <tr>\n",
       "      <th>741</th>\n",
       "      <td>44023</td>\n",
       "      <td>2020-01-06</td>\n",
       "      <td>Beed</td>\n",
       "      <td>Maharashtra</td>\n",
       "      <td>13</td>\n",
       "      <td>Recovered</td>\n",
       "    </tr>\n",
       "    <tr>\n",
       "      <th>742</th>\n",
       "      <td>44024</td>\n",
       "      <td>2020-01-06</td>\n",
       "      <td>Chandrapur</td>\n",
       "      <td>Maharashtra</td>\n",
       "      <td>2</td>\n",
       "      <td>Recovered</td>\n",
       "    </tr>\n",
       "    <tr>\n",
       "      <th>743</th>\n",
       "      <td>44025</td>\n",
       "      <td>2020-01-06</td>\n",
       "      <td>Dhule</td>\n",
       "      <td>Maharashtra</td>\n",
       "      <td>2</td>\n",
       "      <td>Recovered</td>\n",
       "    </tr>\n",
       "  </tbody>\n",
       "</table>\n",
       "</div>"
      ],
      "text/plain": [
       "     Entry_ID Date_Announced Detected_District Detected_State  Num_Cases  \\\n",
       "739     44021     2020-01-06             Akola    Maharashtra          7   \n",
       "740     44022     2020-01-06        Aurangabad    Maharashtra         26   \n",
       "741     44023     2020-01-06              Beed    Maharashtra         13   \n",
       "742     44024     2020-01-06        Chandrapur    Maharashtra          2   \n",
       "743     44025     2020-01-06             Dhule    Maharashtra          2   \n",
       "\n",
       "    Current_Status  \n",
       "739      Recovered  \n",
       "740      Recovered  \n",
       "741      Recovered  \n",
       "742      Recovered  \n",
       "743      Recovered  "
      ]
     },
     "execution_count": 9,
     "metadata": {},
     "output_type": "execute_result"
    }
   ],
   "source": [
    "covidData_MH =  covidData[covidData['Detected_State'] == 'Maharashtra']\n",
    "covidData_MH.Detected_State.unique()\n",
    "print(covidData_MH.shape)\n",
    "covidData_MH.head()"
   ]
  },
  {
   "cell_type": "markdown",
   "metadata": {},
   "source": [
    "<b>IDENTIFYING THE UNIQUE VALUES IN Detected_District & Current_Status</b>"
   ]
  },
  {
   "cell_type": "code",
   "execution_count": 10,
   "metadata": {},
   "outputs": [
    {
     "name": "stdout",
     "output_type": "stream",
     "text": [
      "['Akola' 'Aurangabad' 'Beed' 'Chandrapur' 'Dhule' 'Gadchiroli' 'Gondia'\n",
      " 'Hingoli' 'Jalgaon' 'Jalna' 'Mumbai' 'Nagpur' 'Nanded' 'Nandurbar'\n",
      " 'Osmanabad' 'Palghar' 'Pune' 'Raigad' 'Ratnagiri' 'Sangli' 'Satara'\n",
      " 'Solapur' 'Thane' 'Wardha' 'Nashik' 'Amravati' 'Buldhana' 'Kolhapur'\n",
      " 'Other State' 'Ahmednagar' 'Parbhani' 'Sindhudurg' 'Yavatmal' 'Latur'\n",
      " 'Bhandara' 'Washim' nan 'Unknown']\n",
      "38\n"
     ]
    }
   ],
   "source": [
    "print(covidData_MH.Detected_District.unique())\n",
    "#Other State , Unknown , nan values are also there in district\n",
    "print(len(covidData_MH.Detected_District.unique()))"
   ]
  },
  {
   "cell_type": "code",
   "execution_count": 11,
   "metadata": {},
   "outputs": [
    {
     "data": {
      "text/plain": [
       "<pandas.core.groupby.generic.DataFrameGroupBy object at 0x0000018BE9881AC8>"
      ]
     },
     "execution_count": 11,
     "metadata": {},
     "output_type": "execute_result"
    }
   ],
   "source": [
    "a=covidData_MH.groupby('Date_Announced')\n",
    "a"
   ]
  },
  {
   "cell_type": "code",
   "execution_count": 12,
   "metadata": {
    "scrolled": true
   },
   "outputs": [
    {
     "data": {
      "image/png": "[encoded data removed]",
      "text/plain": [
       "<Figure size 432x288 with 1 Axes>"
      ]
     },
     "metadata": {
      "needs_background": "light"
     },
     "output_type": "display_data"
    }
   ],
   "source": [
    "plt.plot('Date_Announced','Num_Cases',data = covidData_MH)\n",
    "plt.show()"
   ]
  },
  {
   "cell_type": "code",
   "execution_count": 13,
   "metadata": {},
   "outputs": [],
   "source": [
    "#covidData_MH = covidData_MH.drop('Entry_ID',axis = 1)\n",
    "covidData_MH.set_index('Date_Announced',inplace = True)"
   ]
  },
  {
   "cell_type": "code",
   "execution_count": 14,
   "metadata": {},
   "outputs": [
    {
     "data": {
      "text/html": [
       "<div>\n",
       "<style scoped>\n",
       "    .dataframe tbody tr th:only-of-type {\n",
       "        vertical-align: middle;\n",
       "    }\n",
       "\n",
       "    .dataframe tbody tr th {\n",
       "        vertical-align: top;\n",
       "    }\n",
       "\n",
       "    .dataframe thead th {\n",
       "        text-align: right;\n",
       "    }\n",
       "</style>\n",
       "<table border=\"1\" class=\"dataframe\">\n",
       "  <thead>\n",
       "    <tr style=\"text-align: right;\">\n",
       "      <th></th>\n",
       "      <th>Entry_ID</th>\n",
       "      <th>Detected_District</th>\n",
       "      <th>Detected_State</th>\n",
       "      <th>Num_Cases</th>\n",
       "      <th>Current_Status</th>\n",
       "    </tr>\n",
       "    <tr>\n",
       "      <th>Date_Announced</th>\n",
       "      <th></th>\n",
       "      <th></th>\n",
       "      <th></th>\n",
       "      <th></th>\n",
       "      <th></th>\n",
       "    </tr>\n",
       "  </thead>\n",
       "  <tbody>\n",
       "    <tr>\n",
       "      <th>2020-01-06</th>\n",
       "      <td>44021</td>\n",
       "      <td>Akola</td>\n",
       "      <td>Maharashtra</td>\n",
       "      <td>7</td>\n",
       "      <td>Recovered</td>\n",
       "    </tr>\n",
       "    <tr>\n",
       "      <th>2020-01-06</th>\n",
       "      <td>44022</td>\n",
       "      <td>Aurangabad</td>\n",
       "      <td>Maharashtra</td>\n",
       "      <td>26</td>\n",
       "      <td>Recovered</td>\n",
       "    </tr>\n",
       "    <tr>\n",
       "      <th>2020-01-06</th>\n",
       "      <td>44023</td>\n",
       "      <td>Beed</td>\n",
       "      <td>Maharashtra</td>\n",
       "      <td>13</td>\n",
       "      <td>Recovered</td>\n",
       "    </tr>\n",
       "    <tr>\n",
       "      <th>2020-01-06</th>\n",
       "      <td>44024</td>\n",
       "      <td>Chandrapur</td>\n",
       "      <td>Maharashtra</td>\n",
       "      <td>2</td>\n",
       "      <td>Recovered</td>\n",
       "    </tr>\n",
       "    <tr>\n",
       "      <th>2020-01-06</th>\n",
       "      <td>44025</td>\n",
       "      <td>Dhule</td>\n",
       "      <td>Maharashtra</td>\n",
       "      <td>2</td>\n",
       "      <td>Recovered</td>\n",
       "    </tr>\n",
       "    <tr>\n",
       "      <th>...</th>\n",
       "      <td>...</td>\n",
       "      <td>...</td>\n",
       "      <td>...</td>\n",
       "      <td>...</td>\n",
       "      <td>...</td>\n",
       "    </tr>\n",
       "    <tr>\n",
       "      <th>2020-06-30</th>\n",
       "      <td>94402</td>\n",
       "      <td>Raigad</td>\n",
       "      <td>Maharashtra</td>\n",
       "      <td>7</td>\n",
       "      <td>Deceased</td>\n",
       "    </tr>\n",
       "    <tr>\n",
       "      <th>2020-06-30</th>\n",
       "      <td>94403</td>\n",
       "      <td>Ratnagiri</td>\n",
       "      <td>Maharashtra</td>\n",
       "      <td>1</td>\n",
       "      <td>Deceased</td>\n",
       "    </tr>\n",
       "    <tr>\n",
       "      <th>2020-06-30</th>\n",
       "      <td>94404</td>\n",
       "      <td>Solapur</td>\n",
       "      <td>Maharashtra</td>\n",
       "      <td>8</td>\n",
       "      <td>Deceased</td>\n",
       "    </tr>\n",
       "    <tr>\n",
       "      <th>2020-06-30</th>\n",
       "      <td>94405</td>\n",
       "      <td>Thane</td>\n",
       "      <td>Maharashtra</td>\n",
       "      <td>85</td>\n",
       "      <td>Deceased</td>\n",
       "    </tr>\n",
       "    <tr>\n",
       "      <th>2020-06-30</th>\n",
       "      <td>94406</td>\n",
       "      <td>Solapur</td>\n",
       "      <td>Maharashtra</td>\n",
       "      <td>1</td>\n",
       "      <td>Migrated_other</td>\n",
       "    </tr>\n",
       "  </tbody>\n",
       "</table>\n",
       "<p>2167 rows × 5 columns</p>\n",
       "</div>"
      ],
      "text/plain": [
       "                Entry_ID Detected_District Detected_State  Num_Cases  \\\n",
       "Date_Announced                                                         \n",
       "2020-01-06         44021             Akola    Maharashtra          7   \n",
       "2020-01-06         44022        Aurangabad    Maharashtra         26   \n",
       "2020-01-06         44023              Beed    Maharashtra         13   \n",
       "2020-01-06         44024        Chandrapur    Maharashtra          2   \n",
       "2020-01-06         44025             Dhule    Maharashtra          2   \n",
       "...                  ...               ...            ...        ...   \n",
       "2020-06-30         94402            Raigad    Maharashtra          7   \n",
       "2020-06-30         94403         Ratnagiri    Maharashtra          1   \n",
       "2020-06-30         94404           Solapur    Maharashtra          8   \n",
       "2020-06-30         94405             Thane    Maharashtra         85   \n",
       "2020-06-30         94406           Solapur    Maharashtra          1   \n",
       "\n",
       "                Current_Status  \n",
       "Date_Announced                  \n",
       "2020-01-06           Recovered  \n",
       "2020-01-06           Recovered  \n",
       "2020-01-06           Recovered  \n",
       "2020-01-06           Recovered  \n",
       "2020-01-06           Recovered  \n",
       "...                        ...  \n",
       "2020-06-30            Deceased  \n",
       "2020-06-30            Deceased  \n",
       "2020-06-30            Deceased  \n",
       "2020-06-30            Deceased  \n",
       "2020-06-30      Migrated_other  \n",
       "\n",
       "[2167 rows x 5 columns]"
      ]
     },
     "execution_count": 14,
     "metadata": {},
     "output_type": "execute_result"
    }
   ],
   "source": [
    "covidData_MH"
   ]
  },
  {
   "cell_type": "code",
   "execution_count": 30,
   "metadata": {},
   "outputs": [
    {
     "ename": "AttributeError",
     "evalue": "'Index' object has no attribute 'strftime'",
     "output_type": "error",
     "traceback": [
      "\u001b[1;31m---------------------------------------------------------------------------\u001b[0m",
      "\u001b[1;31mAttributeError\u001b[0m                            Traceback (most recent call last)",
      "\u001b[1;32m<ipython-input-30-322fc3454e07>\u001b[0m in \u001b[0;36m<module>\u001b[1;34m\u001b[0m\n\u001b[1;32m----> 1\u001b[1;33m \u001b[0mcovidData_MH\u001b[0m\u001b[1;33m.\u001b[0m\u001b[0mindex\u001b[0m \u001b[1;33m=\u001b[0m \u001b[0mcovidData_MH\u001b[0m\u001b[1;33m.\u001b[0m\u001b[0mindex\u001b[0m\u001b[1;33m.\u001b[0m\u001b[0mstrftime\u001b[0m\u001b[1;33m(\u001b[0m\u001b[1;34m'%d/%m/%Y'\u001b[0m\u001b[1;33m)\u001b[0m\u001b[1;33m\u001b[0m\u001b[1;33m\u001b[0m\u001b[0m\n\u001b[0m",
      "\u001b[1;31mAttributeError\u001b[0m: 'Index' object has no attribute 'strftime'"
     ]
    }
   ],
   "source": [
    "covidData_MH.index = covidData_MH.index.strftime('%d/%m/%Y')"
   ]
  },
  {
   "cell_type": "code",
   "execution_count": 17,
   "metadata": {},
   "outputs": [
    {
     "name": "stdout",
     "output_type": "stream",
     "text": [
      "<class 'pandas.core.frame.DataFrame'>\n",
      "Index: 2167 entries, 06/01/2020 to 30/06/2020\n",
      "Data columns (total 5 columns):\n",
      " #   Column             Non-Null Count  Dtype \n",
      "---  ------             --------------  ----- \n",
      " 0   Entry_ID           2167 non-null   int64 \n",
      " 1   Detected_District  2094 non-null   object\n",
      " 2   Detected_State     2167 non-null   object\n",
      " 3   Num_Cases          2167 non-null   int64 \n",
      " 4   Current_Status     2167 non-null   object\n",
      "dtypes: int64(2), object(3)\n",
      "memory usage: 181.6+ KB\n"
     ]
    }
   ],
   "source": [
    "covidData_MH.info()"
   ]
  },
  {
   "cell_type": "code",
   "execution_count": 42,
   "metadata": {
    "scrolled": true
   },
   "outputs": [
    {
     "name": "stdout",
     "output_type": "stream",
     "text": [
      "<class 'pandas.core.frame.DataFrame'>\n",
      "Index: 813 entries, 01/06/2020 to 12/06/2020\n",
      "Data columns (total 5 columns):\n",
      " #   Column             Non-Null Count  Dtype \n",
      "---  ------             --------------  ----- \n",
      " 0   Entry_ID           813 non-null    int64 \n",
      " 1   Detected_District  806 non-null    object\n",
      " 2   Detected_State     813 non-null    object\n",
      " 3   Num_Cases          813 non-null    int64 \n",
      " 4   Current_Status     813 non-null    object\n",
      "dtypes: int64(2), object(3)\n",
      "memory usage: 38.1+ KB\n"
     ]
    },
    {
     "data": {
      "text/html": [
       "<div>\n",
       "<style scoped>\n",
       "    .dataframe tbody tr th:only-of-type {\n",
       "        vertical-align: middle;\n",
       "    }\n",
       "\n",
       "    .dataframe tbody tr th {\n",
       "        vertical-align: top;\n",
       "    }\n",
       "\n",
       "    .dataframe thead th {\n",
       "        text-align: right;\n",
       "    }\n",
       "</style>\n",
       "<table border=\"1\" class=\"dataframe\">\n",
       "  <thead>\n",
       "    <tr style=\"text-align: right;\">\n",
       "      <th></th>\n",
       "      <th>Entry_ID</th>\n",
       "      <th>Detected_District</th>\n",
       "      <th>Detected_State</th>\n",
       "      <th>Num_Cases</th>\n",
       "      <th>Current_Status</th>\n",
       "    </tr>\n",
       "    <tr>\n",
       "      <th>Date_Announced</th>\n",
       "      <th></th>\n",
       "      <th></th>\n",
       "      <th></th>\n",
       "      <th></th>\n",
       "      <th></th>\n",
       "    </tr>\n",
       "  </thead>\n",
       "  <tbody>\n",
       "    <tr>\n",
       "      <th>01/06/2020</th>\n",
       "      <td>44021</td>\n",
       "      <td>Akola</td>\n",
       "      <td>Maharashtra</td>\n",
       "      <td>7</td>\n",
       "      <td>Recovered</td>\n",
       "    </tr>\n",
       "    <tr>\n",
       "      <th>01/06/2020</th>\n",
       "      <td>44022</td>\n",
       "      <td>Aurangabad</td>\n",
       "      <td>Maharashtra</td>\n",
       "      <td>26</td>\n",
       "      <td>Recovered</td>\n",
       "    </tr>\n",
       "    <tr>\n",
       "      <th>01/06/2020</th>\n",
       "      <td>44023</td>\n",
       "      <td>Beed</td>\n",
       "      <td>Maharashtra</td>\n",
       "      <td>13</td>\n",
       "      <td>Recovered</td>\n",
       "    </tr>\n",
       "    <tr>\n",
       "      <th>01/06/2020</th>\n",
       "      <td>44024</td>\n",
       "      <td>Chandrapur</td>\n",
       "      <td>Maharashtra</td>\n",
       "      <td>2</td>\n",
       "      <td>Recovered</td>\n",
       "    </tr>\n",
       "    <tr>\n",
       "      <th>01/06/2020</th>\n",
       "      <td>44025</td>\n",
       "      <td>Dhule</td>\n",
       "      <td>Maharashtra</td>\n",
       "      <td>2</td>\n",
       "      <td>Recovered</td>\n",
       "    </tr>\n",
       "    <tr>\n",
       "      <th>...</th>\n",
       "      <td>...</td>\n",
       "      <td>...</td>\n",
       "      <td>...</td>\n",
       "      <td>...</td>\n",
       "      <td>...</td>\n",
       "    </tr>\n",
       "    <tr>\n",
       "      <th>12/06/2020</th>\n",
       "      <td>60681</td>\n",
       "      <td>Nashik</td>\n",
       "      <td>Maharashtra</td>\n",
       "      <td>2</td>\n",
       "      <td>Deceased</td>\n",
       "    </tr>\n",
       "    <tr>\n",
       "      <th>12/06/2020</th>\n",
       "      <td>60682</td>\n",
       "      <td>Palghar</td>\n",
       "      <td>Maharashtra</td>\n",
       "      <td>1</td>\n",
       "      <td>Deceased</td>\n",
       "    </tr>\n",
       "    <tr>\n",
       "      <th>12/06/2020</th>\n",
       "      <td>60683</td>\n",
       "      <td>Pune</td>\n",
       "      <td>Maharashtra</td>\n",
       "      <td>12</td>\n",
       "      <td>Deceased</td>\n",
       "    </tr>\n",
       "    <tr>\n",
       "      <th>12/06/2020</th>\n",
       "      <td>60684</td>\n",
       "      <td>Sangli</td>\n",
       "      <td>Maharashtra</td>\n",
       "      <td>3</td>\n",
       "      <td>Deceased</td>\n",
       "    </tr>\n",
       "    <tr>\n",
       "      <th>12/06/2020</th>\n",
       "      <td>60685</td>\n",
       "      <td>Thane</td>\n",
       "      <td>Maharashtra</td>\n",
       "      <td>15</td>\n",
       "      <td>Deceased</td>\n",
       "    </tr>\n",
       "  </tbody>\n",
       "</table>\n",
       "<p>813 rows × 5 columns</p>\n",
       "</div>"
      ],
      "text/plain": [
       "                Entry_ID Detected_District Detected_State  Num_Cases  \\\n",
       "Date_Announced                                                         \n",
       "01/06/2020         44021             Akola    Maharashtra          7   \n",
       "01/06/2020         44022        Aurangabad    Maharashtra         26   \n",
       "01/06/2020         44023              Beed    Maharashtra         13   \n",
       "01/06/2020         44024        Chandrapur    Maharashtra          2   \n",
       "01/06/2020         44025             Dhule    Maharashtra          2   \n",
       "...                  ...               ...            ...        ...   \n",
       "12/06/2020         60681            Nashik    Maharashtra          2   \n",
       "12/06/2020         60682           Palghar    Maharashtra          1   \n",
       "12/06/2020         60683              Pune    Maharashtra         12   \n",
       "12/06/2020         60684            Sangli    Maharashtra          3   \n",
       "12/06/2020         60685             Thane    Maharashtra         15   \n",
       "\n",
       "               Current_Status  \n",
       "Date_Announced                 \n",
       "01/06/2020          Recovered  \n",
       "01/06/2020          Recovered  \n",
       "01/06/2020          Recovered  \n",
       "01/06/2020          Recovered  \n",
       "01/06/2020          Recovered  \n",
       "...                       ...  \n",
       "12/06/2020           Deceased  \n",
       "12/06/2020           Deceased  \n",
       "12/06/2020           Deceased  \n",
       "12/06/2020           Deceased  \n",
       "12/06/2020           Deceased  \n",
       "\n",
       "[813 rows x 5 columns]"
      ]
     },
     "execution_count": 42,
     "metadata": {},
     "output_type": "execute_result"
    }
   ],
   "source": [
    "data1to13 = covidData_MH[\"06/01/2020\":\"06/13/2020\"]\n",
    "data1to13.index = pd.to_datetime(data1to13.index).strftime('%d/%m/%Y')\n",
    "data1to13.info()\n",
    "data1to13"
   ]
  },
  {
   "cell_type": "code",
   "execution_count": 44,
   "metadata": {},
   "outputs": [
    {
     "data": {
      "text/html": [
       "<div>\n",
       "<style scoped>\n",
       "    .dataframe tbody tr th:only-of-type {\n",
       "        vertical-align: middle;\n",
       "    }\n",
       "\n",
       "    .dataframe tbody tr th {\n",
       "        vertical-align: top;\n",
       "    }\n",
       "\n",
       "    .dataframe thead th {\n",
       "        text-align: right;\n",
       "    }\n",
       "</style>\n",
       "<table border=\"1\" class=\"dataframe\">\n",
       "  <thead>\n",
       "    <tr style=\"text-align: right;\">\n",
       "      <th></th>\n",
       "      <th>Entry_ID</th>\n",
       "      <th>Detected_District</th>\n",
       "      <th>Detected_State</th>\n",
       "      <th>Num_Cases</th>\n",
       "      <th>Current_Status</th>\n",
       "    </tr>\n",
       "    <tr>\n",
       "      <th>Date_Announced</th>\n",
       "      <th></th>\n",
       "      <th></th>\n",
       "      <th></th>\n",
       "      <th></th>\n",
       "      <th></th>\n",
       "    </tr>\n",
       "  </thead>\n",
       "  <tbody>\n",
       "    <tr>\n",
       "      <th>13/06/2020</th>\n",
       "      <td>62026</td>\n",
       "      <td>Ahmednagar</td>\n",
       "      <td>Maharashtra</td>\n",
       "      <td>9</td>\n",
       "      <td>Hospitalized</td>\n",
       "    </tr>\n",
       "    <tr>\n",
       "      <th>13/06/2020</th>\n",
       "      <td>62027</td>\n",
       "      <td>Akola</td>\n",
       "      <td>Maharashtra</td>\n",
       "      <td>11</td>\n",
       "      <td>Hospitalized</td>\n",
       "    </tr>\n",
       "    <tr>\n",
       "      <th>13/06/2020</th>\n",
       "      <td>62028</td>\n",
       "      <td>Amravati</td>\n",
       "      <td>Maharashtra</td>\n",
       "      <td>11</td>\n",
       "      <td>Hospitalized</td>\n",
       "    </tr>\n",
       "    <tr>\n",
       "      <th>13/06/2020</th>\n",
       "      <td>62029</td>\n",
       "      <td>Aurangabad</td>\n",
       "      <td>Maharashtra</td>\n",
       "      <td>103</td>\n",
       "      <td>Hospitalized</td>\n",
       "    </tr>\n",
       "    <tr>\n",
       "      <th>13/06/2020</th>\n",
       "      <td>62030</td>\n",
       "      <td>Beed</td>\n",
       "      <td>Maharashtra</td>\n",
       "      <td>5</td>\n",
       "      <td>Hospitalized</td>\n",
       "    </tr>\n",
       "    <tr>\n",
       "      <th>...</th>\n",
       "      <td>...</td>\n",
       "      <td>...</td>\n",
       "      <td>...</td>\n",
       "      <td>...</td>\n",
       "      <td>...</td>\n",
       "    </tr>\n",
       "    <tr>\n",
       "      <th>30/06/2020</th>\n",
       "      <td>94402</td>\n",
       "      <td>Raigad</td>\n",
       "      <td>Maharashtra</td>\n",
       "      <td>7</td>\n",
       "      <td>Deceased</td>\n",
       "    </tr>\n",
       "    <tr>\n",
       "      <th>30/06/2020</th>\n",
       "      <td>94403</td>\n",
       "      <td>Ratnagiri</td>\n",
       "      <td>Maharashtra</td>\n",
       "      <td>1</td>\n",
       "      <td>Deceased</td>\n",
       "    </tr>\n",
       "    <tr>\n",
       "      <th>30/06/2020</th>\n",
       "      <td>94404</td>\n",
       "      <td>Solapur</td>\n",
       "      <td>Maharashtra</td>\n",
       "      <td>8</td>\n",
       "      <td>Deceased</td>\n",
       "    </tr>\n",
       "    <tr>\n",
       "      <th>30/06/2020</th>\n",
       "      <td>94405</td>\n",
       "      <td>Thane</td>\n",
       "      <td>Maharashtra</td>\n",
       "      <td>85</td>\n",
       "      <td>Deceased</td>\n",
       "    </tr>\n",
       "    <tr>\n",
       "      <th>30/06/2020</th>\n",
       "      <td>94406</td>\n",
       "      <td>Solapur</td>\n",
       "      <td>Maharashtra</td>\n",
       "      <td>1</td>\n",
       "      <td>Migrated_other</td>\n",
       "    </tr>\n",
       "  </tbody>\n",
       "</table>\n",
       "<p>1354 rows × 5 columns</p>\n",
       "</div>"
      ],
      "text/plain": [
       "                Entry_ID Detected_District Detected_State  Num_Cases  \\\n",
       "Date_Announced                                                         \n",
       "13/06/2020         62026        Ahmednagar    Maharashtra          9   \n",
       "13/06/2020         62027             Akola    Maharashtra         11   \n",
       "13/06/2020         62028          Amravati    Maharashtra         11   \n",
       "13/06/2020         62029        Aurangabad    Maharashtra        103   \n",
       "13/06/2020         62030              Beed    Maharashtra          5   \n",
       "...                  ...               ...            ...        ...   \n",
       "30/06/2020         94402            Raigad    Maharashtra          7   \n",
       "30/06/2020         94403         Ratnagiri    Maharashtra          1   \n",
       "30/06/2020         94404           Solapur    Maharashtra          8   \n",
       "30/06/2020         94405             Thane    Maharashtra         85   \n",
       "30/06/2020         94406           Solapur    Maharashtra          1   \n",
       "\n",
       "                Current_Status  \n",
       "Date_Announced                  \n",
       "13/06/2020        Hospitalized  \n",
       "13/06/2020        Hospitalized  \n",
       "13/06/2020        Hospitalized  \n",
       "13/06/2020        Hospitalized  \n",
       "13/06/2020        Hospitalized  \n",
       "...                        ...  \n",
       "30/06/2020            Deceased  \n",
       "30/06/2020            Deceased  \n",
       "30/06/2020            Deceased  \n",
       "30/06/2020            Deceased  \n",
       "30/06/2020      Migrated_other  \n",
       "\n",
       "[1354 rows x 5 columns]"
      ]
     },
     "execution_count": 44,
     "metadata": {},
     "output_type": "execute_result"
    }
   ],
   "source": [
    "data13to30 =covidData_MH['13/06/2020':]\n",
    "data13to30"
   ]
  },
  {
   "cell_type": "code",
   "execution_count": 54,
   "metadata": {},
   "outputs": [
    {
     "name": "stdout",
     "output_type": "stream",
     "text": [
      "<class 'pandas.core.frame.DataFrame'>\n",
      "Index: 2167 entries, 01/06/2020 to 30/06/2020\n",
      "Data columns (total 5 columns):\n",
      " #   Column             Non-Null Count  Dtype \n",
      "---  ------             --------------  ----- \n",
      " 0   Entry_ID           2167 non-null   int64 \n",
      " 1   Detected_District  2094 non-null   object\n",
      " 2   Detected_State     2167 non-null   object\n",
      " 3   Num_Cases          2167 non-null   int64 \n",
      " 4   Current_Status     2167 non-null   object\n",
      "dtypes: int64(2), object(3)\n",
      "memory usage: 101.6+ KB\n"
     ]
    }
   ],
   "source": [
    "covidData_June_MH = data1to13.append(data13to30)\n",
    "covidData_June_MH.info()\n"
   ]
  },
  {
   "cell_type": "code",
   "execution_count": 240,
   "metadata": {},
   "outputs": [
    {
     "name": "stdout",
     "output_type": "stream",
     "text": [
      "   Current_Status  Num_Cases\n",
      "0        Deceased       5569\n",
      "1    Hospitalized     107106\n",
      "2  Migrated_Other         15\n",
      "3  Migrated_other          1\n",
      "4       Recovered      61582\n"
     ]
    },
    {
     "data": {
      "image/png": "[encoded data removed]",
      "text/plain": [
       "<Figure size 432x288 with 1 Axes>"
      ]
     },
     "metadata": {},
     "output_type": "display_data"
    }
   ],
   "source": [
    "#covidData_June_MH.Num_Cases.plot()\n",
    "Status_Num = covidData_June_MH.groupby('Current_Status').sum()\n",
    "#Status_Num.drop('Entry_ID',axis = 1,inplace =True)\n",
    "Status_Num.reset_index(inplace = True)\n",
    "print(Status_Num)\n",
    "Status_Num.drop(Status_Num.index[[2,3]],inplace = True)\n",
    "plt.barh('Current_Status','Num_Cases',data = Status_Num,color='green')\n",
    "plt.xticks(rotation=90)\n",
    "plt.title('Number of Cases Vs Status')\n",
    "plt.xlabel('Number of Cases')\n",
    "plt.ylabel('Status')\n",
    "plt.style.use('fivethirtyeight')\n",
    "plt.tight_layout()\n",
    "plt.savefig('Number of Cases Vs Status')"
   ]
  },
  {
   "cell_type": "code",
   "execution_count": 116,
   "metadata": {},
   "outputs": [
    {
     "data": {
      "text/plain": [
       "<matplotlib.axes._subplots.AxesSubplot at 0x18bf245dd88>"
      ]
     },
     "execution_count": 116,
     "metadata": {},
     "output_type": "execute_result"
    },
    {
     "data": {
      "image/png": "[encoded data removed]",
      "text/plain": [
       "<Figure size 432x288 with 1 Axes>"
      ]
     },
     "metadata": {
      "needs_background": "light"
     },
     "output_type": "display_data"
    }
   ],
   "source": [
    "covidData_June_MH['Num_Cases'].plot()"
   ]
  },
  {
   "cell_type": "code",
   "execution_count": 118,
   "metadata": {},
   "outputs": [],
   "source": [
    "covidData_June_MH.drop('Entry_ID',axis = 1,inplace = True)"
   ]
  },
  {
   "cell_type": "code",
   "execution_count": 141,
   "metadata": {},
   "outputs": [
    {
     "data": {
      "text/html": [
       "<div>\n",
       "<style scoped>\n",
       "    .dataframe tbody tr th:only-of-type {\n",
       "        vertical-align: middle;\n",
       "    }\n",
       "\n",
       "    .dataframe tbody tr th {\n",
       "        vertical-align: top;\n",
       "    }\n",
       "\n",
       "    .dataframe thead th {\n",
       "        text-align: right;\n",
       "    }\n",
       "</style>\n",
       "<table border=\"1\" class=\"dataframe\">\n",
       "  <thead>\n",
       "    <tr style=\"text-align: right;\">\n",
       "      <th></th>\n",
       "      <th>Detected_District</th>\n",
       "      <th>Detected_State</th>\n",
       "      <th>Num_Cases</th>\n",
       "      <th>Current_Status</th>\n",
       "    </tr>\n",
       "    <tr>\n",
       "      <th>Date_Announced</th>\n",
       "      <th></th>\n",
       "      <th></th>\n",
       "      <th></th>\n",
       "      <th></th>\n",
       "    </tr>\n",
       "  </thead>\n",
       "  <tbody>\n",
       "    <tr>\n",
       "      <th>01/06/2020</th>\n",
       "      <td>Akola</td>\n",
       "      <td>Maharashtra</td>\n",
       "      <td>7</td>\n",
       "      <td>Recovered</td>\n",
       "    </tr>\n",
       "    <tr>\n",
       "      <th>01/06/2020</th>\n",
       "      <td>Aurangabad</td>\n",
       "      <td>Maharashtra</td>\n",
       "      <td>26</td>\n",
       "      <td>Recovered</td>\n",
       "    </tr>\n",
       "    <tr>\n",
       "      <th>01/06/2020</th>\n",
       "      <td>Beed</td>\n",
       "      <td>Maharashtra</td>\n",
       "      <td>13</td>\n",
       "      <td>Recovered</td>\n",
       "    </tr>\n",
       "    <tr>\n",
       "      <th>01/06/2020</th>\n",
       "      <td>Chandrapur</td>\n",
       "      <td>Maharashtra</td>\n",
       "      <td>2</td>\n",
       "      <td>Recovered</td>\n",
       "    </tr>\n",
       "    <tr>\n",
       "      <th>01/06/2020</th>\n",
       "      <td>Dhule</td>\n",
       "      <td>Maharashtra</td>\n",
       "      <td>2</td>\n",
       "      <td>Recovered</td>\n",
       "    </tr>\n",
       "  </tbody>\n",
       "</table>\n",
       "</div>"
      ],
      "text/plain": [
       "               Detected_District Detected_State  Num_Cases Current_Status\n",
       "Date_Announced                                                           \n",
       "01/06/2020                 Akola    Maharashtra          7      Recovered\n",
       "01/06/2020            Aurangabad    Maharashtra         26      Recovered\n",
       "01/06/2020                  Beed    Maharashtra         13      Recovered\n",
       "01/06/2020            Chandrapur    Maharashtra          2      Recovered\n",
       "01/06/2020                 Dhule    Maharashtra          2      Recovered"
      ]
     },
     "execution_count": 141,
     "metadata": {},
     "output_type": "execute_result"
    }
   ],
   "source": [
    "covidData_June_MH.head()"
   ]
  },
  {
   "cell_type": "code",
   "execution_count": 234,
   "metadata": {},
   "outputs": [
    {
     "data": {
      "image/png": "[encoded data removed]",
      "text/plain": [
       "<Figure size 432x288 with 1 Axes>"
      ]
     },
     "metadata": {},
     "output_type": "display_data"
    }
   ],
   "source": [
    "covidData_June_MH.groupby(covidData_June_MH.index).sum().plot(color = 'blue')\n",
    "plt.xticks(rotation=10)\n",
    "plt.xlabel('Number of Cases')\n",
    "plt.xticks()\n",
    "plt.title('Date Vs Number of Cases')\n",
    "plt.style.use('ggplot')\n",
    "plt.savefig('Number_of_Cases_Vs_Date.png')\n",
    "plt.tight_layout()"
   ]
  },
  {
   "cell_type": "code",
   "execution_count": 213,
   "metadata": {},
   "outputs": [
    {
     "data": {
      "text/plain": [
       "'C:\\\\Users\\\\Himank Khandelwal\\\\Downloads'"
      ]
     },
     "execution_count": 213,
     "metadata": {},
     "output_type": "execute_result"
    }
   ],
   "source": [
    "pwd"
   ]
  },
  {
   "cell_type": "code",
   "execution_count": 214,
   "metadata": {},
   "outputs": [
    {
     "name": "stderr",
     "output_type": "stream",
     "text": [
      "C:\\Users\\Himank Khandelwal\\anaconda3\\lib\\site-packages\\ipykernel_launcher.py:8: SettingWithCopyWarning: \n",
      "A value is trying to be set on a copy of a slice from a DataFrame\n",
      "\n",
      "See the caveats in the documentation: https://pandas.pydata.org/pandas-docs/stable/user_guide/indexing.html#returning-a-view-versus-a-copy\n",
      "  \n"
     ]
    },
    {
     "data": {
      "image/png": "[encoded data removed]",
      "text/plain": [
       "<Figure size 576x720 with 1 Axes>"
      ]
     },
     "metadata": {},
     "output_type": "display_data"
    }
   ],
   "source": [
    "plt.figure(figsize=(8,10))\n",
    "District_Wise = covidData_June_MH.groupby('Detected_District').sum()\n",
    "District_Wise.drop('Unknown',inplace = True)\n",
    "District_Wise.sort_values(['Num_Cases'],ascending = False,inplace = True)\n",
    "#print(District_Wise)\n",
    "District_Wise.reset_index(inplace = True)\n",
    "Top5 = District_Wise[0:6]\n",
    "Top5.sort_values('Num_Cases',ascending = False,inplace = True)\n",
    "plt.bar('Detected_District','Num_Cases',data = Top5)\n",
    "plt.ylabel(\"Number of cases\")\n",
    "plt.xlabel(\"District\")\n",
    "plt.title(\"Top 5 Affected Districts of Maharashtra\")\n",
    "plt.style.use('ggplot')\n",
    "plt.tight_layout()\n",
    "plt.savefig('Top5Affected.png')"
   ]
  }
 ],
 "metadata": {
  "kernelspec": {
   "display_name": "Python 3",
   "language": "python",
   "name": "python3"
  },
  "language_info": {
   "codemirror_mode": {
    "name": "ipython",
    "version": 3
   },
   "file_extension": ".py",
   "mimetype": "text/x-python",
   "name": "python",
   "nbconvert_exporter": "python",
   "pygments_lexer": "ipython3",
   "version": "3.7.6"
  }
 },
 "nbformat": 4,
 "nbformat_minor": 4
}
