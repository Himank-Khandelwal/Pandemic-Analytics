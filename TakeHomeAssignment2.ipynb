{
 "cells": [
  {
   "cell_type": "code",
   "execution_count": 1,
   "metadata": {},
   "outputs": [],
   "source": [
    "from tkinter import *\n",
    "import tkinter as tk\n",
    "import pandas as pd"
   ]
  },
  {
   "cell_type": "code",
   "execution_count": 2,
   "metadata": {},
   "outputs": [
    {
     "data": {
      "text/plain": [
       "'C:\\\\Users\\\\Himank Khandelwal\\\\Downloads'"
      ]
     },
     "execution_count": 2,
     "metadata": {},
     "output_type": "execute_result"
    }
   ],
   "source": [
    "pwd"
   ]
  },
  {
   "cell_type": "code",
   "execution_count": 3,
   "metadata": {},
   "outputs": [],
   "source": [
    "data = pd.read_csv('covid.csv')"
   ]
  },
  {
   "cell_type": "code",
   "execution_count": 4,
   "metadata": {},
   "outputs": [
    {
     "data": {
      "text/html": [
       "<div>\n",
       "<style scoped>\n",
       "    .dataframe tbody tr th:only-of-type {\n",
       "        vertical-align: middle;\n",
       "    }\n",
       "\n",
       "    .dataframe tbody tr th {\n",
       "        vertical-align: top;\n",
       "    }\n",
       "\n",
       "    .dataframe thead th {\n",
       "        text-align: right;\n",
       "    }\n",
       "</style>\n",
       "<table border=\"1\" class=\"dataframe\">\n",
       "  <thead>\n",
       "    <tr style=\"text-align: right;\">\n",
       "      <th></th>\n",
       "      <th>States</th>\n",
       "      <th>Infected</th>\n",
       "      <th>Recovered</th>\n",
       "      <th>Deceased</th>\n",
       "    </tr>\n",
       "  </thead>\n",
       "  <tbody>\n",
       "    <tr>\n",
       "      <th>0</th>\n",
       "      <td>Maharashtra</td>\n",
       "      <td>192990</td>\n",
       "      <td>104687</td>\n",
       "      <td>8376</td>\n",
       "    </tr>\n",
       "    <tr>\n",
       "      <th>1</th>\n",
       "      <td>Tamil Nadu</td>\n",
       "      <td>102721</td>\n",
       "      <td>58378</td>\n",
       "      <td>1385</td>\n",
       "    </tr>\n",
       "    <tr>\n",
       "      <th>2</th>\n",
       "      <td>Delhi</td>\n",
       "      <td>94695</td>\n",
       "      <td>65624</td>\n",
       "      <td>2923</td>\n",
       "    </tr>\n",
       "    <tr>\n",
       "      <th>3</th>\n",
       "      <td>Gujarat</td>\n",
       "      <td>34600</td>\n",
       "      <td>24933</td>\n",
       "      <td>1904</td>\n",
       "    </tr>\n",
       "    <tr>\n",
       "      <th>4</th>\n",
       "      <td>Uttar Pradesh</td>\n",
       "      <td>25797</td>\n",
       "      <td>17597</td>\n",
       "      <td>749</td>\n",
       "    </tr>\n",
       "  </tbody>\n",
       "</table>\n",
       "</div>"
      ],
      "text/plain": [
       "          States  Infected  Recovered  Deceased\n",
       "0    Maharashtra    192990     104687      8376\n",
       "1     Tamil Nadu    102721      58378      1385\n",
       "2          Delhi     94695      65624      2923\n",
       "3        Gujarat     34600      24933      1904\n",
       "4  Uttar Pradesh     25797      17597       749"
      ]
     },
     "execution_count": 4,
     "metadata": {},
     "output_type": "execute_result"
    }
   ],
   "source": [
    "data.head()\n"
   ]
  },
  {
   "cell_type": "code",
   "execution_count": 5,
   "metadata": {},
   "outputs": [],
   "source": [
    "window = tk.Tk()\n",
    "\n",
    "window.geometry(\"500x500\")\n",
    "\n",
    "window.title(\"Pandemic Analytics Engine\")\n",
    "\n",
    "window.configure(background='Light Grey')"
   ]
  },
  {
   "cell_type": "code",
   "execution_count": 6,
   "metadata": {},
   "outputs": [],
   "source": [
    "tk.Label(window,text = \"Pandemic Analyzer\", bg='Light Grey' ,fg = 'Dark Blue',font = \"none 14 bold\").grid(row = 0,column = 0,sticky= 'W')"
   ]
  },
  {
   "cell_type": "code",
   "execution_count": 7,
   "metadata": {},
   "outputs": [],
   "source": [
    "tk.Label(window,text = \"Select State\", bg='Light Grey' ,fg = 'White',font = \"none 14 bold\").grid(row = 2,column = 0,sticky= 'W')"
   ]
  },
  {
   "cell_type": "code",
   "execution_count": 8,
   "metadata": {},
   "outputs": [],
   "source": [
    "variable = StringVar(window)\n",
    "\n",
    "variable.set(data.States[0]) \n",
    "\n",
    "w = OptionMenu(window, variable, *data.States)\n",
    "w.grid(row=2,column=6,sticky='W')\n"
   ]
  },
  {
   "cell_type": "code",
   "execution_count": 9,
   "metadata": {},
   "outputs": [],
   "source": [
    "global inf \n",
    "global rec \n",
    "global dec\n",
    "\n",
    "def click():\n",
    "\n",
    "    inf = tk.Label(window,text = int(data[data.States == variable.get()].Infected), bg='Orange' ,fg = 'Black',font = \"none 14 bold\").grid(row = 4,column = 6,sticky= 'W')\n",
    "    rec = tk.Label(window,text = int(data[data.States == variable.get()].Recovered), bg='Orange' ,fg = 'Black',font = \"none 14 bold\").grid(row = 6,column = 6,sticky= 'W')\n",
    "    dec = tk.Label(window,text = int(data[data.States == variable.get()].Deceased), bg='Orange' ,fg = 'Black',font = \"none 14 bold\").grid(row = 8,column = 6,sticky= 'W')\n",
    "    \n"
   ]
  },
  {
   "cell_type": "code",
   "execution_count": 10,
   "metadata": {},
   "outputs": [],
   "source": [
    "Button(window,text = 'OK',width = 6,command = click).grid(row = 2,column=10,sticky = 'W')"
   ]
  },
  {
   "cell_type": "code",
   "execution_count": 11,
   "metadata": {},
   "outputs": [],
   "source": [
    "tk.Label(window,text = \"Infected\", bg='Light Grey' ,fg = 'Orange',font = \"none 14 bold\").grid(row = 4,column = 0,sticky= 'W')"
   ]
  },
  {
   "cell_type": "code",
   "execution_count": 12,
   "metadata": {},
   "outputs": [],
   "source": [
    "tk.Label(window,text = \"Recovered\", bg='Light Grey' ,fg = 'sea green',font = \"none 14 bold\").grid(row = 6,column = 0,sticky= 'W')"
   ]
  },
  {
   "cell_type": "code",
   "execution_count": 13,
   "metadata": {},
   "outputs": [],
   "source": [
    "tk.Label(window,text = \"Deceased\", bg='Light Grey' ,fg = 'red3',font = \"none 14 bold\").grid(row = 8,column = 0,sticky= 'W')"
   ]
  },
  {
   "cell_type": "code",
   "execution_count": 14,
   "metadata": {},
   "outputs": [],
   "source": [
    "def ifr():\n",
    "    inf = tk.Label(window,text = int((inf/dec)*100), bg='Orange' ,fg = 'Black',font = \"none 14 bold\").grid(row = 12,column = 6,sticky= 'W')\n",
    "    "
   ]
  },
  {
   "cell_type": "code",
   "execution_count": 15,
   "metadata": {},
   "outputs": [],
   "source": [
    "def cmr():\n",
    "    entered_text= variable.get()\n",
    "    print(entered_text)"
   ]
  },
  {
   "cell_type": "code",
   "execution_count": 16,
   "metadata": {},
   "outputs": [],
   "source": [
    "Button(window,text = 'IFR',width = 6,command = ifr).grid(row = 10,column=2,sticky = 'W')\n",
    "Button(window,text = 'CMR',width = 6,command = cmr).grid(row = 10,column=4,sticky = 'W')"
   ]
  },
  {
   "cell_type": "code",
   "execution_count": 17,
   "metadata": {},
   "outputs": [],
   "source": [
    "tk.Label(window,text = \"Value\", bg='Light Grey' ,fg = 'RoyalBlue1',font = \"none 14 bold\").grid(row = 12,column = 0,sticky= 'W')"
   ]
  },
  {
   "cell_type": "code",
   "execution_count": null,
   "metadata": {},
   "outputs": [],
   "source": []
  },
  {
   "cell_type": "code",
   "execution_count": 18,
   "metadata": {},
   "outputs": [
    {
     "name": "stderr",
     "output_type": "stream",
     "text": [
      "Exception in Tkinter callback\n",
      "Traceback (most recent call last):\n",
      "  File \"C:\\Users\\Himank Khandelwal\\anaconda3\\lib\\tkinter\\__init__.py\", line 1705, in __call__\n",
      "    return self.func(*args)\n",
      "  File \"<ipython-input-14-4a4ecf6293e6>\", line 2, in ifr\n",
      "    inf = tk.Label(window,text = int((inf/dec)*100), bg='Orange' ,fg = 'Black',font = \"none 14 bold\").grid(row = 12,column = 6,sticky= 'W')\n",
      "UnboundLocalError: local variable 'inf' referenced before assignment\n",
      "Exception in Tkinter callback\n",
      "Traceback (most recent call last):\n",
      "  File \"C:\\Users\\Himank Khandelwal\\anaconda3\\lib\\tkinter\\__init__.py\", line 1705, in __call__\n",
      "    return self.func(*args)\n",
      "  File \"<ipython-input-14-4a4ecf6293e6>\", line 2, in ifr\n",
      "    inf = tk.Label(window,text = int((inf/dec)*100), bg='Orange' ,fg = 'Black',font = \"none 14 bold\").grid(row = 12,column = 6,sticky= 'W')\n",
      "UnboundLocalError: local variable 'inf' referenced before assignment\n",
      "Exception in Tkinter callback\n",
      "Traceback (most recent call last):\n",
      "  File \"C:\\Users\\Himank Khandelwal\\anaconda3\\lib\\tkinter\\__init__.py\", line 1705, in __call__\n",
      "    return self.func(*args)\n",
      "  File \"<ipython-input-14-4a4ecf6293e6>\", line 2, in ifr\n",
      "    inf = tk.Label(window,text = int((inf/dec)*100), bg='Orange' ,fg = 'Black',font = \"none 14 bold\").grid(row = 12,column = 6,sticky= 'W')\n",
      "UnboundLocalError: local variable 'inf' referenced before assignment\n",
      "Exception in Tkinter callback\n",
      "Traceback (most recent call last):\n",
      "  File \"C:\\Users\\Himank Khandelwal\\anaconda3\\lib\\tkinter\\__init__.py\", line 1705, in __call__\n",
      "    return self.func(*args)\n",
      "  File \"<ipython-input-14-4a4ecf6293e6>\", line 2, in ifr\n",
      "    inf = tk.Label(window,text = int((inf/dec)*100), bg='Orange' ,fg = 'Black',font = \"none 14 bold\").grid(row = 12,column = 6,sticky= 'W')\n",
      "UnboundLocalError: local variable 'inf' referenced before assignment\n",
      "Exception in Tkinter callback\n",
      "Traceback (most recent call last):\n",
      "  File \"C:\\Users\\Himank Khandelwal\\anaconda3\\lib\\tkinter\\__init__.py\", line 1705, in __call__\n",
      "    return self.func(*args)\n",
      "  File \"<ipython-input-14-4a4ecf6293e6>\", line 2, in ifr\n",
      "    inf = tk.Label(window,text = int((inf/dec)*100), bg='Orange' ,fg = 'Black',font = \"none 14 bold\").grid(row = 12,column = 6,sticky= 'W')\n",
      "UnboundLocalError: local variable 'inf' referenced before assignment\n",
      "Exception in Tkinter callback\n",
      "Traceback (most recent call last):\n",
      "  File \"C:\\Users\\Himank Khandelwal\\anaconda3\\lib\\tkinter\\__init__.py\", line 1705, in __call__\n",
      "    return self.func(*args)\n",
      "  File \"<ipython-input-14-4a4ecf6293e6>\", line 2, in ifr\n",
      "    inf = tk.Label(window,text = int((inf/dec)*100), bg='Orange' ,fg = 'Black',font = \"none 14 bold\").grid(row = 12,column = 6,sticky= 'W')\n",
      "UnboundLocalError: local variable 'inf' referenced before assignment\n",
      "Exception in Tkinter callback\n",
      "Traceback (most recent call last):\n",
      "  File \"C:\\Users\\Himank Khandelwal\\anaconda3\\lib\\tkinter\\__init__.py\", line 1705, in __call__\n",
      "    return self.func(*args)\n",
      "  File \"<ipython-input-14-4a4ecf6293e6>\", line 2, in ifr\n",
      "    inf = tk.Label(window,text = int((inf/dec)*100), bg='Orange' ,fg = 'Black',font = \"none 14 bold\").grid(row = 12,column = 6,sticky= 'W')\n",
      "UnboundLocalError: local variable 'inf' referenced before assignment\n"
     ]
    }
   ],
   "source": [
    "window.mainloop()"
   ]
  }
 ],
 "metadata": {
  "kernelspec": {
   "display_name": "Python 3",
   "language": "python",
   "name": "python3"
  },
  "language_info": {
   "codemirror_mode": {
    "name": "ipython",
    "version": 3
   },
   "file_extension": ".py",
   "mimetype": "text/x-python",
   "name": "python",
   "nbconvert_exporter": "python",
   "pygments_lexer": "ipython3",
   "version": "3.7.6"
  }
 },
 "nbformat": 4,
 "nbformat_minor": 4
}
