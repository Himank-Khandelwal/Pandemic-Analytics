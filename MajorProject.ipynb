{
 "cells": [
  {
   "cell_type": "markdown",
   "metadata": {},
   "source": [
    "**PANDEMIC ANALYTICS MAJOR PROJECT**\n"
   ]
  },
  {
   "cell_type": "markdown",
   "metadata": {},
   "source": [
    "**PART A**"
   ]
  },
  {
   "cell_type": "code",
   "execution_count": 1,
   "metadata": {},
   "outputs": [],
   "source": [
    "import pandas as pd\n",
    "import numpy as np\n",
    "import matplotlib.pyplot as plt\n",
    "import seaborn as sns\n",
    "%matplotlib inline"
   ]
  },
  {
   "cell_type": "code",
   "execution_count": 2,
   "metadata": {},
   "outputs": [],
   "source": [
    "date=['Date']\n",
    "covidData = pd.read_csv('complete.csv',index_col='Date')"
   ]
  },
  {
   "cell_type": "code",
   "execution_count": 3,
   "metadata": {},
   "outputs": [],
   "source": [
    "covidData.index = pd.to_datetime(covidData.index,dayfirst=True)"
   ]
  },
  {
   "cell_type": "code",
   "execution_count": 4,
   "metadata": {},
   "outputs": [
    {
     "data": {
      "text/plain": [
       "Int64Index([1, 1, 2, 2, 2, 2, 2, 2, 2, 2,\n",
       "            ...\n",
       "            7, 7, 7, 7, 7, 7, 7, 7, 7, 7],\n",
       "           dtype='int64', name='Date', length=3720)"
      ]
     },
     "execution_count": 4,
     "metadata": {},
     "output_type": "execute_result"
    }
   ],
   "source": [
    "covidData.index.month"
   ]
  },
  {
   "cell_type": "code",
   "execution_count": 5,
   "metadata": {},
   "outputs": [
    {
     "name": "stdout",
     "output_type": "stream",
     "text": [
      "<class 'pandas.core.frame.DataFrame'>\n",
      "DatetimeIndex: 3720 entries, 2020-01-30 to 2020-07-09\n",
      "Data columns (total 6 columns):\n",
      " #   Column              Non-Null Count  Dtype  \n",
      "---  ------              --------------  -----  \n",
      " 0   Name of State / UT  3720 non-null   object \n",
      " 1   Latitude            3720 non-null   float64\n",
      " 2   Longitude           3720 non-null   float64\n",
      " 3   Infected            3720 non-null   int64  \n",
      " 4   Deaths              3720 non-null   int64  \n",
      " 5   Recovered           3720 non-null   int64  \n",
      "dtypes: float64(2), int64(3), object(1)\n",
      "memory usage: 203.4+ KB\n"
     ]
    }
   ],
   "source": [
    "covidData.info()"
   ]
  },
  {
   "cell_type": "code",
   "execution_count": 6,
   "metadata": {},
   "outputs": [
    {
     "data": {
      "text/html": [
       "<div>\n",
       "<style scoped>\n",
       "    .dataframe tbody tr th:only-of-type {\n",
       "        vertical-align: middle;\n",
       "    }\n",
       "\n",
       "    .dataframe tbody tr th {\n",
       "        vertical-align: top;\n",
       "    }\n",
       "\n",
       "    .dataframe thead th {\n",
       "        text-align: right;\n",
       "    }\n",
       "</style>\n",
       "<table border=\"1\" class=\"dataframe\">\n",
       "  <thead>\n",
       "    <tr style=\"text-align: right;\">\n",
       "      <th></th>\n",
       "      <th>Latitude</th>\n",
       "      <th>Longitude</th>\n",
       "      <th>Infected</th>\n",
       "      <th>Deaths</th>\n",
       "      <th>Recovered</th>\n",
       "    </tr>\n",
       "  </thead>\n",
       "  <tbody>\n",
       "    <tr>\n",
       "      <th>count</th>\n",
       "      <td>3720.000000</td>\n",
       "      <td>3720.000000</td>\n",
       "      <td>3720.000000</td>\n",
       "      <td>3720.000000</td>\n",
       "      <td>3720.000000</td>\n",
       "    </tr>\n",
       "    <tr>\n",
       "      <th>mean</th>\n",
       "      <td>23.144517</td>\n",
       "      <td>81.323939</td>\n",
       "      <td>205.012903</td>\n",
       "      <td>5.677151</td>\n",
       "      <td>128.011290</td>\n",
       "    </tr>\n",
       "    <tr>\n",
       "      <th>std</th>\n",
       "      <td>6.686143</td>\n",
       "      <td>6.768002</td>\n",
       "      <td>714.208017</td>\n",
       "      <td>32.587167</td>\n",
       "      <td>509.162079</td>\n",
       "    </tr>\n",
       "    <tr>\n",
       "      <th>min</th>\n",
       "      <td>10.850500</td>\n",
       "      <td>71.192400</td>\n",
       "      <td>0.000000</td>\n",
       "      <td>-1.000000</td>\n",
       "      <td>-1.000000</td>\n",
       "    </tr>\n",
       "    <tr>\n",
       "      <th>25%</th>\n",
       "      <td>18.112400</td>\n",
       "      <td>76.271100</td>\n",
       "      <td>0.000000</td>\n",
       "      <td>0.000000</td>\n",
       "      <td>0.000000</td>\n",
       "    </tr>\n",
       "    <tr>\n",
       "      <th>50%</th>\n",
       "      <td>23.610200</td>\n",
       "      <td>79.019300</td>\n",
       "      <td>11.000000</td>\n",
       "      <td>0.000000</td>\n",
       "      <td>2.000000</td>\n",
       "    </tr>\n",
       "    <tr>\n",
       "      <th>75%</th>\n",
       "      <td>28.704100</td>\n",
       "      <td>85.313100</td>\n",
       "      <td>111.000000</td>\n",
       "      <td>1.000000</td>\n",
       "      <td>53.000000</td>\n",
       "    </tr>\n",
       "    <tr>\n",
       "      <th>max</th>\n",
       "      <td>34.299600</td>\n",
       "      <td>94.727800</td>\n",
       "      <td>13438.000000</td>\n",
       "      <td>1409.000000</td>\n",
       "      <td>8381.000000</td>\n",
       "    </tr>\n",
       "  </tbody>\n",
       "</table>\n",
       "</div>"
      ],
      "text/plain": [
       "          Latitude    Longitude      Infected       Deaths    Recovered\n",
       "count  3720.000000  3720.000000   3720.000000  3720.000000  3720.000000\n",
       "mean     23.144517    81.323939    205.012903     5.677151   128.011290\n",
       "std       6.686143     6.768002    714.208017    32.587167   509.162079\n",
       "min      10.850500    71.192400      0.000000    -1.000000    -1.000000\n",
       "25%      18.112400    76.271100      0.000000     0.000000     0.000000\n",
       "50%      23.610200    79.019300     11.000000     0.000000     2.000000\n",
       "75%      28.704100    85.313100    111.000000     1.000000    53.000000\n",
       "max      34.299600    94.727800  13438.000000  1409.000000  8381.000000"
      ]
     },
     "execution_count": 6,
     "metadata": {},
     "output_type": "execute_result"
    }
   ],
   "source": [
    "covidData.describe()"
   ]
  },
  {
   "cell_type": "code",
   "execution_count": 7,
   "metadata": {},
   "outputs": [
    {
     "data": {
      "text/plain": [
       "array(['Kerala', 'Delhi', 'Telengana', 'Haryana', 'Rajasthan',\n",
       "       'Uttar Pradesh', 'Tamil Nadu', 'Union Territory of Ladakh',\n",
       "       'Karnataka', 'Maharashtra', 'Punjab',\n",
       "       'Union Territory of Jammu and Kashmir', 'Andhra Pradesh',\n",
       "       'Uttarakhand', 'Odisha', 'Puducherry', 'West Bengal',\n",
       "       'Chhattisgarh', 'Union Territory of Chandigarh', 'Gujarat',\n",
       "       'Chandigarh', 'Himachal Pradesh', 'Jammu and Kashmir', 'Ladakh',\n",
       "       'Madhya Pradesh', 'Bihar', 'Manipur', 'Mizoram',\n",
       "       'Andaman and Nicobar Islands', 'Goa', 'Assam', 'Jharkhand',\n",
       "       'Arunachal Pradesh', 'Tripura', 'Meghalaya',\n",
       "       'Dadra and Nagar Haveli and Daman and Diu', 'Sikkim', 'Nagaland',\n",
       "       'Telangana'], dtype=object)"
      ]
     },
     "execution_count": 7,
     "metadata": {},
     "output_type": "execute_result"
    }
   ],
   "source": [
    "covidData['Name of State / UT'].unique()"
   ]
  },
  {
   "cell_type": "code",
   "execution_count": 8,
   "metadata": {},
   "outputs": [],
   "source": [
    "covidData['Name of State / UT']=covidData['Name of State / UT'].apply(lambda x : \"Jammu and Kashmir\" if x == \"Union Territory of Jammu and Kashmir\" else x)"
   ]
  },
  {
   "cell_type": "code",
   "execution_count": 9,
   "metadata": {},
   "outputs": [
    {
     "data": {
      "text/plain": [
       "array(['Kerala', 'Delhi', 'Telengana', 'Haryana', 'Rajasthan',\n",
       "       'Uttar Pradesh', 'Tamil Nadu', 'Union Territory of Ladakh',\n",
       "       'Karnataka', 'Maharashtra', 'Punjab', 'Jammu and Kashmir',\n",
       "       'Andhra Pradesh', 'Uttarakhand', 'Odisha', 'Puducherry',\n",
       "       'West Bengal', 'Chhattisgarh', 'Union Territory of Chandigarh',\n",
       "       'Gujarat', 'Chandigarh', 'Himachal Pradesh', 'Ladakh',\n",
       "       'Madhya Pradesh', 'Bihar', 'Manipur', 'Mizoram',\n",
       "       'Andaman and Nicobar Islands', 'Goa', 'Assam', 'Jharkhand',\n",
       "       'Arunachal Pradesh', 'Tripura', 'Meghalaya',\n",
       "       'Dadra and Nagar Haveli and Daman and Diu', 'Sikkim', 'Nagaland',\n",
       "       'Telangana'], dtype=object)"
      ]
     },
     "execution_count": 9,
     "metadata": {},
     "output_type": "execute_result"
    }
   ],
   "source": [
    "covidData['Name of State / UT'].unique()"
   ]
  },
  {
   "cell_type": "code",
   "execution_count": 10,
   "metadata": {},
   "outputs": [],
   "source": [
    "covidData_JK = covidData[covidData['Name of State / UT']== \"Jammu and Kashmir\"]"
   ]
  },
  {
   "cell_type": "code",
   "execution_count": null,
   "metadata": {},
   "outputs": [],
   "source": []
  },
  {
   "cell_type": "code",
   "execution_count": 11,
   "metadata": {},
   "outputs": [
    {
     "data": {
      "text/html": [
       "<div>\n",
       "<style scoped>\n",
       "    .dataframe tbody tr th:only-of-type {\n",
       "        vertical-align: middle;\n",
       "    }\n",
       "\n",
       "    .dataframe tbody tr th {\n",
       "        vertical-align: top;\n",
       "    }\n",
       "\n",
       "    .dataframe thead th {\n",
       "        text-align: right;\n",
       "    }\n",
       "</style>\n",
       "<table border=\"1\" class=\"dataframe\">\n",
       "  <thead>\n",
       "    <tr style=\"text-align: right;\">\n",
       "      <th></th>\n",
       "      <th>Name of State / UT</th>\n",
       "      <th>Latitude</th>\n",
       "      <th>Longitude</th>\n",
       "      <th>Infected</th>\n",
       "      <th>Deaths</th>\n",
       "      <th>Recovered</th>\n",
       "    </tr>\n",
       "    <tr>\n",
       "      <th>Date</th>\n",
       "      <th></th>\n",
       "      <th></th>\n",
       "      <th></th>\n",
       "      <th></th>\n",
       "      <th></th>\n",
       "      <th></th>\n",
       "    </tr>\n",
       "  </thead>\n",
       "  <tbody>\n",
       "    <tr>\n",
       "      <th>2020-03-09</th>\n",
       "      <td>Jammu and Kashmir</td>\n",
       "      <td>33.7782</td>\n",
       "      <td>76.5762</td>\n",
       "      <td>0</td>\n",
       "      <td>0</td>\n",
       "      <td>0</td>\n",
       "    </tr>\n",
       "    <tr>\n",
       "      <th>2020-03-10</th>\n",
       "      <td>Jammu and Kashmir</td>\n",
       "      <td>33.7782</td>\n",
       "      <td>76.5762</td>\n",
       "      <td>0</td>\n",
       "      <td>0</td>\n",
       "      <td>0</td>\n",
       "    </tr>\n",
       "    <tr>\n",
       "      <th>2020-03-11</th>\n",
       "      <td>Jammu and Kashmir</td>\n",
       "      <td>33.7782</td>\n",
       "      <td>76.5762</td>\n",
       "      <td>0</td>\n",
       "      <td>0</td>\n",
       "      <td>0</td>\n",
       "    </tr>\n",
       "    <tr>\n",
       "      <th>2020-03-12</th>\n",
       "      <td>Jammu and Kashmir</td>\n",
       "      <td>33.7782</td>\n",
       "      <td>76.5762</td>\n",
       "      <td>0</td>\n",
       "      <td>0</td>\n",
       "      <td>0</td>\n",
       "    </tr>\n",
       "    <tr>\n",
       "      <th>2020-03-13</th>\n",
       "      <td>Jammu and Kashmir</td>\n",
       "      <td>33.7782</td>\n",
       "      <td>76.5762</td>\n",
       "      <td>0</td>\n",
       "      <td>0</td>\n",
       "      <td>0</td>\n",
       "    </tr>\n",
       "    <tr>\n",
       "      <th>...</th>\n",
       "      <td>...</td>\n",
       "      <td>...</td>\n",
       "      <td>...</td>\n",
       "      <td>...</td>\n",
       "      <td>...</td>\n",
       "      <td>...</td>\n",
       "    </tr>\n",
       "    <tr>\n",
       "      <th>2020-07-03</th>\n",
       "      <td>Jammu and Kashmir</td>\n",
       "      <td>33.7782</td>\n",
       "      <td>76.5762</td>\n",
       "      <td>154</td>\n",
       "      <td>10</td>\n",
       "      <td>118</td>\n",
       "    </tr>\n",
       "    <tr>\n",
       "      <th>2020-07-05</th>\n",
       "      <td>Jammu and Kashmir</td>\n",
       "      <td>33.7782</td>\n",
       "      <td>76.5762</td>\n",
       "      <td>397</td>\n",
       "      <td>12</td>\n",
       "      <td>169</td>\n",
       "    </tr>\n",
       "    <tr>\n",
       "      <th>2020-07-07</th>\n",
       "      <td>Jammu and Kashmir</td>\n",
       "      <td>33.7782</td>\n",
       "      <td>76.5762</td>\n",
       "      <td>429</td>\n",
       "      <td>11</td>\n",
       "      <td>175</td>\n",
       "    </tr>\n",
       "    <tr>\n",
       "      <th>2020-07-08</th>\n",
       "      <td>Jammu and Kashmir</td>\n",
       "      <td>33.7782</td>\n",
       "      <td>76.5762</td>\n",
       "      <td>256</td>\n",
       "      <td>5</td>\n",
       "      <td>81</td>\n",
       "    </tr>\n",
       "    <tr>\n",
       "      <th>2020-07-09</th>\n",
       "      <td>Jammu and Kashmir</td>\n",
       "      <td>33.7782</td>\n",
       "      <td>76.5762</td>\n",
       "      <td>330</td>\n",
       "      <td>6</td>\n",
       "      <td>168</td>\n",
       "    </tr>\n",
       "  </tbody>\n",
       "</table>\n",
       "<p>119 rows × 6 columns</p>\n",
       "</div>"
      ],
      "text/plain": [
       "           Name of State / UT  Latitude  Longitude  Infected  Deaths  \\\n",
       "Date                                                                   \n",
       "2020-03-09  Jammu and Kashmir   33.7782    76.5762         0       0   \n",
       "2020-03-10  Jammu and Kashmir   33.7782    76.5762         0       0   \n",
       "2020-03-11  Jammu and Kashmir   33.7782    76.5762         0       0   \n",
       "2020-03-12  Jammu and Kashmir   33.7782    76.5762         0       0   \n",
       "2020-03-13  Jammu and Kashmir   33.7782    76.5762         0       0   \n",
       "...                       ...       ...        ...       ...     ...   \n",
       "2020-07-03  Jammu and Kashmir   33.7782    76.5762       154      10   \n",
       "2020-07-05  Jammu and Kashmir   33.7782    76.5762       397      12   \n",
       "2020-07-07  Jammu and Kashmir   33.7782    76.5762       429      11   \n",
       "2020-07-08  Jammu and Kashmir   33.7782    76.5762       256       5   \n",
       "2020-07-09  Jammu and Kashmir   33.7782    76.5762       330       6   \n",
       "\n",
       "            Recovered  \n",
       "Date                   \n",
       "2020-03-09          0  \n",
       "2020-03-10          0  \n",
       "2020-03-11          0  \n",
       "2020-03-12          0  \n",
       "2020-03-13          0  \n",
       "...               ...  \n",
       "2020-07-03        118  \n",
       "2020-07-05        169  \n",
       "2020-07-07        175  \n",
       "2020-07-08         81  \n",
       "2020-07-09        168  \n",
       "\n",
       "[119 rows x 6 columns]"
      ]
     },
     "execution_count": 11,
     "metadata": {},
     "output_type": "execute_result"
    }
   ],
   "source": [
    "covidData_JK"
   ]
  },
  {
   "cell_type": "code",
   "execution_count": 12,
   "metadata": {},
   "outputs": [
    {
     "name": "stdout",
     "output_type": "stream",
     "text": [
      "<class 'pandas.core.frame.DataFrame'>\n",
      "DatetimeIndex: 119 entries, 2020-03-09 to 2020-07-09\n",
      "Data columns (total 6 columns):\n",
      " #   Column              Non-Null Count  Dtype  \n",
      "---  ------              --------------  -----  \n",
      " 0   Name of State / UT  119 non-null    object \n",
      " 1   Latitude            119 non-null    float64\n",
      " 2   Longitude           119 non-null    float64\n",
      " 3   Infected            119 non-null    int64  \n",
      " 4   Deaths              119 non-null    int64  \n",
      " 5   Recovered           119 non-null    int64  \n",
      "dtypes: float64(2), int64(3), object(1)\n",
      "memory usage: 6.5+ KB\n"
     ]
    }
   ],
   "source": [
    "covidData_JK.info()"
   ]
  },
  {
   "cell_type": "code",
   "execution_count": 13,
   "metadata": {},
   "outputs": [],
   "source": [
    "covidData_JK = covidData_JK[[\"Name of State / UT\",\"Infected\",\"Deaths\",\"Recovered\"]]"
   ]
  },
  {
   "cell_type": "code",
   "execution_count": 14,
   "metadata": {},
   "outputs": [
    {
     "data": {
      "text/plain": [
       "<seaborn.axisgrid.PairGrid at 0x14b205982c8>"
      ]
     },
     "execution_count": 14,
     "metadata": {},
     "output_type": "execute_result"
    },
    {
     "data": {
      "image/png": "[encoded data removed]",
      "text/plain": [
       "<Figure size 540x540 with 12 Axes>"
      ]
     },
     "metadata": {},
     "output_type": "display_data"
    }
   ],
   "source": [
    "sns.set_style('whitegrid')\n",
    "sns.pairplot(covidData_JK,palette=\"GnBu_d\")\n"
   ]
  },
  {
   "cell_type": "code",
   "execution_count": 15,
   "metadata": {
    "scrolled": true
   },
   "outputs": [
    {
     "data": {
      "text/plain": [
       "<matplotlib.legend.Legend at 0x14b21243808>"
      ]
     },
     "execution_count": 15,
     "metadata": {},
     "output_type": "execute_result"
    },
    {
     "data": {
      "image/png": "[encoded data removed]",
      "text/plain": [
       "<Figure size 720x360 with 1 Axes>"
      ]
     },
     "metadata": {},
     "output_type": "display_data"
    }
   ],
   "source": [
    "plt.figure(figsize=(10,5))\n",
    "sns.lineplot(covidData_JK.index.month,'Infected',data = covidData_JK,markers=True,label = 'Infected')\n",
    "sns.lineplot(covidData_JK.index.month,'Recovered',data = covidData_JK,label = 'Recovered')\n",
    "sns.lineplot(covidData_JK.index.month,'Deaths',data = covidData_JK,label = 'Deaths')\n",
    "plt.legend(loc = 'upper left')"
   ]
  },
  {
   "cell_type": "code",
   "execution_count": 16,
   "metadata": {},
   "outputs": [
    {
     "data": {
      "text/plain": [
       "Text(62.375, 0.5, 'Status')"
      ]
     },
     "execution_count": 16,
     "metadata": {},
     "output_type": "execute_result"
    },
    {
     "data": {
      "image/png": "[encoded data removed]",
      "text/plain": [
       "<Figure size 720x360 with 1 Axes>"
      ]
     },
     "metadata": {},
     "output_type": "display_data"
    }
   ],
   "source": [
    "month_wise  = covidData_JK.resample('M').mean()\n",
    "plt.figure(figsize=(10,5))\n",
    "sns.lineplot(month_wise.index,'Infected',data = month_wise,markers=True,label = 'Infected')\n",
    "sns.lineplot(month_wise.index,'Recovered',data = month_wise,markers=True,label = 'Recovered')\n",
    "sns.lineplot(month_wise.index,'Deaths',data = month_wise,markers=True,label = 'Deaths')\n",
    "plt.title('Month wise Status')\n",
    "plt.savefig('Month wise Status.png')\n",
    "plt.ylabel(\"Status\")"
   ]
  },
  {
   "cell_type": "code",
   "execution_count": 17,
   "metadata": {},
   "outputs": [
    {
     "data": {
      "text/plain": [
       "Text(62.375, 0.5, 'Status')"
      ]
     },
     "execution_count": 17,
     "metadata": {},
     "output_type": "execute_result"
    },
    {
     "data": {
      "image/png": "[encoded data removed]",
      "text/plain": [
       "<Figure size 720x360 with 1 Axes>"
      ]
     },
     "metadata": {},
     "output_type": "display_data"
    }
   ],
   "source": [
    "month_wise  = covidData_JK.resample('d').mean()\n",
    "plt.figure(figsize=(10,5))\n",
    "sns.lineplot(month_wise.index,'Infected',data = month_wise,markers=True,label = 'Infected')\n",
    "sns.lineplot(month_wise.index,'Recovered',data = month_wise,markers=True,label = 'Recovered')\n",
    "sns.lineplot(month_wise.index,'Deaths',data = month_wise,markers=True,label = 'Deaths')\n",
    "plt.title('Day wise Status')\n",
    "plt.savefig('Day wise Status.png')\n",
    "plt.ylabel(\"Status\")"
   ]
  },
  {
   "cell_type": "code",
   "execution_count": 18,
   "metadata": {},
   "outputs": [
    {
     "data": {
      "text/plain": [
       "Text(62.375, 0.5, 'Status')"
      ]
     },
     "execution_count": 18,
     "metadata": {},
     "output_type": "execute_result"
    },
    {
     "data": {
      "image/png": "[encoded data removed]",
      "text/plain": [
       "<Figure size 720x360 with 1 Axes>"
      ]
     },
     "metadata": {},
     "output_type": "display_data"
    }
   ],
   "source": [
    "month_wise  = covidData_JK.resample('W').mean()\n",
    "plt.figure(figsize=(10,5))\n",
    "sns.lineplot(month_wise.index,'Infected',data = month_wise,markers=True,label = 'Infected')\n",
    "sns.lineplot(month_wise.index,'Recovered',data = month_wise,markers=True,label = 'Recovered')\n",
    "sns.lineplot(month_wise.index,'Deaths',data = month_wise,markers=True,label = 'Deaths')\n",
    "plt.title('Weak wise Status')\n",
    "plt.savefig('Weak wise Status.png')\n",
    "plt.ylabel(\"Status\")"
   ]
  },
  {
   "cell_type": "code",
   "execution_count": 19,
   "metadata": {},
   "outputs": [
    {
     "data": {
      "text/html": [
       "<div>\n",
       "<style scoped>\n",
       "    .dataframe tbody tr th:only-of-type {\n",
       "        vertical-align: middle;\n",
       "    }\n",
       "\n",
       "    .dataframe tbody tr th {\n",
       "        vertical-align: top;\n",
       "    }\n",
       "\n",
       "    .dataframe thead th {\n",
       "        text-align: right;\n",
       "    }\n",
       "</style>\n",
       "<table border=\"1\" class=\"dataframe\">\n",
       "  <thead>\n",
       "    <tr style=\"text-align: right;\">\n",
       "      <th>Name of State / UT</th>\n",
       "      <th>Jammu and Kashmir</th>\n",
       "    </tr>\n",
       "  </thead>\n",
       "  <tbody>\n",
       "    <tr>\n",
       "      <th>Deaths</th>\n",
       "      <td>149</td>\n",
       "    </tr>\n",
       "    <tr>\n",
       "      <th>Infected</th>\n",
       "      <td>9260</td>\n",
       "    </tr>\n",
       "    <tr>\n",
       "      <th>Recovered</th>\n",
       "      <td>5567</td>\n",
       "    </tr>\n",
       "  </tbody>\n",
       "</table>\n",
       "</div>"
      ],
      "text/plain": [
       "Name of State / UT  Jammu and Kashmir\n",
       "Deaths                            149\n",
       "Infected                         9260\n",
       "Recovered                        5567"
      ]
     },
     "execution_count": 19,
     "metadata": {},
     "output_type": "execute_result"
    }
   ],
   "source": [
    "pivot_JK = covidData_JK.groupby('Name of State / UT').sum()\n",
    "pivot_JK\n",
    "pivot_JK = pd.pivot_table(pivot_JK,columns = 'Name of State / UT')\n",
    "pivot_JK"
   ]
  },
  {
   "cell_type": "code",
   "execution_count": 20,
   "metadata": {},
   "outputs": [
    {
     "data": {
      "image/png": "[encoded data removed]",
      "text/plain": [
       "<Figure size 432x288 with 1 Axes>"
      ]
     },
     "metadata": {},
     "output_type": "display_data"
    }
   ],
   "source": [
    "sns.barplot(pivot_JK.index,\"Jammu and Kashmir\",data = pivot_JK,palette=\"BuGn_r\")\n",
    "plt.ylabel(\"Number pf individuals\")\n",
    "plt.title(\"Number of individuals Vs Status\")\n",
    "plt.savefig('Numbers vs Status.png')\n"
   ]
  },
  {
   "cell_type": "code",
   "execution_count": 21,
   "metadata": {},
   "outputs": [],
   "source": [
    "state_wise = pd.read_csv(\"StatewiseTestingDetails.csv\",index_col=['Date'])"
   ]
  },
  {
   "cell_type": "code",
   "execution_count": 22,
   "metadata": {},
   "outputs": [],
   "source": [
    "state_wise.index = pd.to_datetime(state_wise.index,dayfirst=True)"
   ]
  },
  {
   "cell_type": "code",
   "execution_count": 23,
   "metadata": {},
   "outputs": [
    {
     "data": {
      "text/html": [
       "<div>\n",
       "<style scoped>\n",
       "    .dataframe tbody tr th:only-of-type {\n",
       "        vertical-align: middle;\n",
       "    }\n",
       "\n",
       "    .dataframe tbody tr th {\n",
       "        vertical-align: top;\n",
       "    }\n",
       "\n",
       "    .dataframe thead th {\n",
       "        text-align: right;\n",
       "    }\n",
       "</style>\n",
       "<table border=\"1\" class=\"dataframe\">\n",
       "  <thead>\n",
       "    <tr style=\"text-align: right;\">\n",
       "      <th></th>\n",
       "      <th>State</th>\n",
       "      <th>TotalSamples</th>\n",
       "      <th>Negative</th>\n",
       "      <th>Positive</th>\n",
       "    </tr>\n",
       "    <tr>\n",
       "      <th>Date</th>\n",
       "      <th></th>\n",
       "      <th></th>\n",
       "      <th></th>\n",
       "      <th></th>\n",
       "    </tr>\n",
       "  </thead>\n",
       "  <tbody>\n",
       "    <tr>\n",
       "      <th>2020-04-17</th>\n",
       "      <td>Andaman and Nicobar Islands</td>\n",
       "      <td>1403.0</td>\n",
       "      <td>1210</td>\n",
       "      <td>12.0</td>\n",
       "    </tr>\n",
       "    <tr>\n",
       "      <th>2020-04-24</th>\n",
       "      <td>Andaman and Nicobar Islands</td>\n",
       "      <td>2679.0</td>\n",
       "      <td>NaN</td>\n",
       "      <td>27.0</td>\n",
       "    </tr>\n",
       "    <tr>\n",
       "      <th>2020-04-27</th>\n",
       "      <td>Andaman and Nicobar Islands</td>\n",
       "      <td>2848.0</td>\n",
       "      <td>NaN</td>\n",
       "      <td>33.0</td>\n",
       "    </tr>\n",
       "    <tr>\n",
       "      <th>2020-05-01</th>\n",
       "      <td>Andaman and Nicobar Islands</td>\n",
       "      <td>3754.0</td>\n",
       "      <td>NaN</td>\n",
       "      <td>33.0</td>\n",
       "    </tr>\n",
       "    <tr>\n",
       "      <th>2020-05-16</th>\n",
       "      <td>Andaman and Nicobar Islands</td>\n",
       "      <td>6677.0</td>\n",
       "      <td>NaN</td>\n",
       "      <td>33.0</td>\n",
       "    </tr>\n",
       "  </tbody>\n",
       "</table>\n",
       "</div>"
      ],
      "text/plain": [
       "                                  State  TotalSamples Negative  Positive\n",
       "Date                                                                    \n",
       "2020-04-17  Andaman and Nicobar Islands        1403.0     1210      12.0\n",
       "2020-04-24  Andaman and Nicobar Islands        2679.0      NaN      27.0\n",
       "2020-04-27  Andaman and Nicobar Islands        2848.0      NaN      33.0\n",
       "2020-05-01  Andaman and Nicobar Islands        3754.0      NaN      33.0\n",
       "2020-05-16  Andaman and Nicobar Islands        6677.0      NaN      33.0"
      ]
     },
     "execution_count": 23,
     "metadata": {},
     "output_type": "execute_result"
    }
   ],
   "source": [
    "state_wise.head()"
   ]
  },
  {
   "cell_type": "code",
   "execution_count": 24,
   "metadata": {},
   "outputs": [
    {
     "data": {
      "text/plain": [
       "Int64Index([4, 4, 4, 5, 5, 5, 5, 5, 5, 5,\n",
       "            ...\n",
       "            6, 7, 7, 7, 7, 7, 7, 7, 7, 7],\n",
       "           dtype='int64', name='Date', length=2924)"
      ]
     },
     "execution_count": 24,
     "metadata": {},
     "output_type": "execute_result"
    }
   ],
   "source": [
    "state_wise.index.month"
   ]
  },
  {
   "cell_type": "code",
   "execution_count": 25,
   "metadata": {},
   "outputs": [],
   "source": [
    "state_wise_JK = state_wise[state_wise['State']== \"Jammu and Kashmir\"]"
   ]
  },
  {
   "cell_type": "code",
   "execution_count": 26,
   "metadata": {},
   "outputs": [
    {
     "data": {
      "text/plain": [
       "<matplotlib.axes._subplots.AxesSubplot at 0x14b21cac5c8>"
      ]
     },
     "execution_count": 26,
     "metadata": {},
     "output_type": "execute_result"
    },
    {
     "data": {
      "image/png": "[encoded data removed]",
      "text/plain": [
       "<Figure size 1080x360 with 1 Axes>"
      ]
     },
     "metadata": {},
     "output_type": "display_data"
    }
   ],
   "source": [
    "plt.figure(figsize=(15,5))\n",
    "sns.scatterplot(x='TotalSamples',y='Positive',data = state_wise_JK,palette='green',alpha=1)\n",
    "\n",
    "\n",
    "\n"
   ]
  },
  {
   "cell_type": "code",
   "execution_count": 47,
   "metadata": {},
   "outputs": [
    {
     "data": {
      "text/plain": [
       "<matplotlib.axes._subplots.AxesSubplot at 0x14b24167c48>"
      ]
     },
     "execution_count": 47,
     "metadata": {},
     "output_type": "execute_result"
    },
    {
     "data": {
      "image/png": "[encoded data removed]",
      "text/plain": [
       "<Figure size 1080x360 with 1 Axes>"
      ]
     },
     "metadata": {},
     "output_type": "display_data"
    }
   ],
   "source": [
    "plt.figure(figsize=(15,5))\n",
    "\n",
    "sns.scatterplot(x='TotalSamples',y='Negative',data = state_wise_JK,palette=\"RdBu\")\n"
   ]
  },
  {
   "cell_type": "code",
   "execution_count": 28,
   "metadata": {},
   "outputs": [
    {
     "name": "stdout",
     "output_type": "stream",
     "text": [
      "<class 'pandas.core.frame.DataFrame'>\n",
      "DatetimeIndex: 92 entries, 2020-04-05 to 2020-07-09\n",
      "Data columns (total 4 columns):\n",
      " #   Column        Non-Null Count  Dtype  \n",
      "---  ------        --------------  -----  \n",
      " 0   State         92 non-null     object \n",
      " 1   TotalSamples  92 non-null     float64\n",
      " 2   Negative      92 non-null     object \n",
      " 3   Positive      92 non-null     float64\n",
      "dtypes: float64(2), object(2)\n",
      "memory usage: 3.6+ KB\n"
     ]
    }
   ],
   "source": [
    "state_wise_JK.info()"
   ]
  },
  {
   "cell_type": "code",
   "execution_count": 29,
   "metadata": {},
   "outputs": [
    {
     "name": "stderr",
     "output_type": "stream",
     "text": [
      "C:\\Users\\Himank Khandelwal\\anaconda3\\lib\\site-packages\\ipykernel_launcher.py:1: SettingWithCopyWarning: \n",
      "A value is trying to be set on a copy of a slice from a DataFrame.\n",
      "Try using .loc[row_indexer,col_indexer] = value instead\n",
      "\n",
      "See the caveats in the documentation: https://pandas.pydata.org/pandas-docs/stable/user_guide/indexing.html#returning-a-view-versus-a-copy\n",
      "  \"\"\"Entry point for launching an IPython kernel.\n"
     ]
    }
   ],
   "source": [
    "state_wise_JK[\"Negative\"] = state_wise_JK.Negative.astype('float')"
   ]
  },
  {
   "cell_type": "code",
   "execution_count": 42,
   "metadata": {},
   "outputs": [
    {
     "data": {
      "image/png": "[encoded data removed]",
      "text/plain": [
       "<Figure size 432x288 with 2 Axes>"
      ]
     },
     "metadata": {},
     "output_type": "display_data"
    }
   ],
   "source": [
    "sns.heatmap(state_wise_JK.corr(),linewidths=.5,annot = True,cmap=\"YlGnBu\")\n",
    "plt.title(\"Correlation among Total, Positive and Negative Samples\")\n",
    "plt.savefig(\"J&K Correlation among Total, Positive and Negative Samples .png\")"
   ]
  },
  {
   "cell_type": "code",
   "execution_count": 31,
   "metadata": {},
   "outputs": [
    {
     "data": {
      "text/html": [
       "<div>\n",
       "<style scoped>\n",
       "    .dataframe tbody tr th:only-of-type {\n",
       "        vertical-align: middle;\n",
       "    }\n",
       "\n",
       "    .dataframe tbody tr th {\n",
       "        vertical-align: top;\n",
       "    }\n",
       "\n",
       "    .dataframe thead th {\n",
       "        text-align: right;\n",
       "    }\n",
       "</style>\n",
       "<table border=\"1\" class=\"dataframe\">\n",
       "  <thead>\n",
       "    <tr style=\"text-align: right;\">\n",
       "      <th></th>\n",
       "      <th>TotalSamples</th>\n",
       "      <th>Negative</th>\n",
       "      <th>Positive</th>\n",
       "    </tr>\n",
       "  </thead>\n",
       "  <tbody>\n",
       "    <tr>\n",
       "      <th>TotalSamples</th>\n",
       "      <td>1.000000</td>\n",
       "      <td>0.999994</td>\n",
       "      <td>0.986728</td>\n",
       "    </tr>\n",
       "    <tr>\n",
       "      <th>Negative</th>\n",
       "      <td>0.999994</td>\n",
       "      <td>1.000000</td>\n",
       "      <td>0.986173</td>\n",
       "    </tr>\n",
       "    <tr>\n",
       "      <th>Positive</th>\n",
       "      <td>0.986728</td>\n",
       "      <td>0.986173</td>\n",
       "      <td>1.000000</td>\n",
       "    </tr>\n",
       "  </tbody>\n",
       "</table>\n",
       "</div>"
      ],
      "text/plain": [
       "              TotalSamples  Negative  Positive\n",
       "TotalSamples      1.000000  0.999994  0.986728\n",
       "Negative          0.999994  1.000000  0.986173\n",
       "Positive          0.986728  0.986173  1.000000"
      ]
     },
     "execution_count": 31,
     "metadata": {},
     "output_type": "execute_result"
    }
   ],
   "source": [
    "state_wise_JK.corr()"
   ]
  },
  {
   "cell_type": "code",
   "execution_count": 32,
   "metadata": {},
   "outputs": [],
   "source": [
    "district_wise = pd.read_csv(\"district_level_latest.csv\")"
   ]
  },
  {
   "cell_type": "code",
   "execution_count": 33,
   "metadata": {},
   "outputs": [],
   "source": [
    "district_wise_JK = district_wise[district_wise['State']== \"Jammu and Kashmir\"]"
   ]
  },
  {
   "cell_type": "code",
   "execution_count": 34,
   "metadata": {},
   "outputs": [
    {
     "name": "stdout",
     "output_type": "stream",
     "text": [
      "<class 'pandas.core.frame.DataFrame'>\n",
      "Int64Index: 23 entries, 259 to 776\n",
      "Data columns (total 16 columns):\n",
      " #   Column           Non-Null Count  Dtype  \n",
      "---  ------           --------------  -----  \n",
      " 0   SlNo             23 non-null     int64  \n",
      " 1   State_Code       23 non-null     object \n",
      " 2   State            23 non-null     object \n",
      " 3   District_Key     23 non-null     object \n",
      " 4   District         23 non-null     object \n",
      " 5   Confirmed        23 non-null     int64  \n",
      " 6   Active           23 non-null     int64  \n",
      " 7   Recovered        23 non-null     int64  \n",
      " 8   Deceased         23 non-null     int64  \n",
      " 9   Migrated_Other   23 non-null     int64  \n",
      " 10  Delta_Confirmed  23 non-null     int64  \n",
      " 11  Delta_Active     23 non-null     int64  \n",
      " 12  Delta_Recovered  23 non-null     int64  \n",
      " 13  Delta_Deceased   23 non-null     int64  \n",
      " 14  District_Notes   0 non-null      object \n",
      " 15  Last_Updated     0 non-null      float64\n",
      "dtypes: float64(1), int64(10), object(5)\n",
      "memory usage: 3.1+ KB\n"
     ]
    }
   ],
   "source": [
    "district_wise_JK.info()"
   ]
  },
  {
   "cell_type": "code",
   "execution_count": 35,
   "metadata": {},
   "outputs": [],
   "source": [
    "district_wise_JK = district_wise_JK[['State','District','Confirmed','Active','Recovered','Deceased']]"
   ]
  },
  {
   "cell_type": "code",
   "execution_count": 36,
   "metadata": {},
   "outputs": [
    {
     "data": {
      "text/html": [
       "<div>\n",
       "<style scoped>\n",
       "    .dataframe tbody tr th:only-of-type {\n",
       "        vertical-align: middle;\n",
       "    }\n",
       "\n",
       "    .dataframe tbody tr th {\n",
       "        vertical-align: top;\n",
       "    }\n",
       "\n",
       "    .dataframe thead th {\n",
       "        text-align: right;\n",
       "    }\n",
       "</style>\n",
       "<table border=\"1\" class=\"dataframe\">\n",
       "  <thead>\n",
       "    <tr style=\"text-align: right;\">\n",
       "      <th></th>\n",
       "      <th>State</th>\n",
       "      <th>District</th>\n",
       "      <th>Confirmed</th>\n",
       "      <th>Active</th>\n",
       "      <th>Recovered</th>\n",
       "      <th>Deceased</th>\n",
       "    </tr>\n",
       "  </thead>\n",
       "  <tbody>\n",
       "    <tr>\n",
       "      <th>259</th>\n",
       "      <td>Jammu and Kashmir</td>\n",
       "      <td>Anantnag</td>\n",
       "      <td>755</td>\n",
       "      <td>160</td>\n",
       "      <td>583</td>\n",
       "      <td>12</td>\n",
       "    </tr>\n",
       "    <tr>\n",
       "      <th>260</th>\n",
       "      <td>Jammu and Kashmir</td>\n",
       "      <td>Bandipora</td>\n",
       "      <td>323</td>\n",
       "      <td>38</td>\n",
       "      <td>282</td>\n",
       "      <td>3</td>\n",
       "    </tr>\n",
       "    <tr>\n",
       "      <th>261</th>\n",
       "      <td>Jammu and Kashmir</td>\n",
       "      <td>Baramulla</td>\n",
       "      <td>1176</td>\n",
       "      <td>645</td>\n",
       "      <td>501</td>\n",
       "      <td>30</td>\n",
       "    </tr>\n",
       "    <tr>\n",
       "      <th>262</th>\n",
       "      <td>Jammu and Kashmir</td>\n",
       "      <td>Budgam</td>\n",
       "      <td>504</td>\n",
       "      <td>201</td>\n",
       "      <td>292</td>\n",
       "      <td>11</td>\n",
       "    </tr>\n",
       "    <tr>\n",
       "      <th>263</th>\n",
       "      <td>Jammu and Kashmir</td>\n",
       "      <td>Doda</td>\n",
       "      <td>120</td>\n",
       "      <td>56</td>\n",
       "      <td>62</td>\n",
       "      <td>2</td>\n",
       "    </tr>\n",
       "  </tbody>\n",
       "</table>\n",
       "</div>"
      ],
      "text/plain": [
       "                 State   District  Confirmed  Active  Recovered  Deceased\n",
       "259  Jammu and Kashmir   Anantnag        755     160        583        12\n",
       "260  Jammu and Kashmir  Bandipora        323      38        282         3\n",
       "261  Jammu and Kashmir  Baramulla       1176     645        501        30\n",
       "262  Jammu and Kashmir     Budgam        504     201        292        11\n",
       "263  Jammu and Kashmir       Doda        120      56         62         2"
      ]
     },
     "execution_count": 36,
     "metadata": {},
     "output_type": "execute_result"
    }
   ],
   "source": [
    "district_wise_JK.head()"
   ]
  },
  {
   "cell_type": "code",
   "execution_count": null,
   "metadata": {},
   "outputs": [],
   "source": []
  },
  {
   "cell_type": "code",
   "execution_count": 37,
   "metadata": {},
   "outputs": [
    {
     "data": {
      "text/html": [
       "<div>\n",
       "<style scoped>\n",
       "    .dataframe tbody tr th:only-of-type {\n",
       "        vertical-align: middle;\n",
       "    }\n",
       "\n",
       "    .dataframe tbody tr th {\n",
       "        vertical-align: top;\n",
       "    }\n",
       "\n",
       "    .dataframe thead th {\n",
       "        text-align: right;\n",
       "    }\n",
       "</style>\n",
       "<table border=\"1\" class=\"dataframe\">\n",
       "  <thead>\n",
       "    <tr style=\"text-align: right;\">\n",
       "      <th></th>\n",
       "      <th>District</th>\n",
       "      <th>variable</th>\n",
       "      <th>value</th>\n",
       "    </tr>\n",
       "  </thead>\n",
       "  <tbody>\n",
       "    <tr>\n",
       "      <th>20</th>\n",
       "      <td>Srinagar</td>\n",
       "      <td>Confirmed</td>\n",
       "      <td>1396</td>\n",
       "    </tr>\n",
       "    <tr>\n",
       "      <th>2</th>\n",
       "      <td>Baramulla</td>\n",
       "      <td>Confirmed</td>\n",
       "      <td>1176</td>\n",
       "    </tr>\n",
       "    <tr>\n",
       "      <th>9</th>\n",
       "      <td>Kulgam</td>\n",
       "      <td>Confirmed</td>\n",
       "      <td>928</td>\n",
       "    </tr>\n",
       "    <tr>\n",
       "      <th>43</th>\n",
       "      <td>Srinagar</td>\n",
       "      <td>Active</td>\n",
       "      <td>895</td>\n",
       "    </tr>\n",
       "    <tr>\n",
       "      <th>19</th>\n",
       "      <td>Shopiyan</td>\n",
       "      <td>Confirmed</td>\n",
       "      <td>866</td>\n",
       "    </tr>\n",
       "  </tbody>\n",
       "</table>\n",
       "</div>"
      ],
      "text/plain": [
       "     District   variable  value\n",
       "20   Srinagar  Confirmed   1396\n",
       "2   Baramulla  Confirmed   1176\n",
       "9      Kulgam  Confirmed    928\n",
       "43   Srinagar     Active    895\n",
       "19   Shopiyan  Confirmed    866"
      ]
     },
     "execution_count": 37,
     "metadata": {},
     "output_type": "execute_result"
    }
   ],
   "source": [
    "district_wise_JK = district_wise_JK.groupby('District').sum()\n",
    "district_wise_JK.reset_index(inplace = True)\n",
    "district_JK = district_wise_JK.melt(id_vars = 'District',value_vars = ['Confirmed','Active','Recovered','Deceased'])\n",
    "district_JK = district_JK.sort_values('value',ascending = False)\n",
    "district_JK.head()"
   ]
  },
  {
   "cell_type": "code",
   "execution_count": 38,
   "metadata": {},
   "outputs": [
    {
     "data": {
      "image/png": "[encoded data removed]",
      "text/plain": [
       "<Figure size 432x288 with 1 Axes>"
      ]
     },
     "metadata": {},
     "output_type": "display_data"
    }
   ],
   "source": [
    "sns.barplot(x='value',y='District',data = district_JK,hue = 'variable')\n",
    "plt.xlabel(\"Total Number of individuals\")\n",
    "plt.savefig(\"DistrictWise.png\")"
   ]
  },
  {
   "cell_type": "markdown",
   "metadata": {},
   "source": [
    "**PART B**"
   ]
  },
  {
   "cell_type": "code",
   "execution_count": 44,
   "metadata": {},
   "outputs": [
    {
     "data": {
      "image/png": "[encoded data removed]",
      "text/plain": [
       "<Figure size 432x288 with 2 Axes>"
      ]
     },
     "metadata": {},
     "output_type": "display_data"
    }
   ],
   "source": [
    "sns.heatmap(district_wise_JK.corr(),annot = True,linecolor = 'white',lw =1)\n",
    "plt.title(\" J&K District wise correlation\")\n",
    "plt.savefig(\"J&K District wise correlation.png\")"
   ]
  },
  {
   "cell_type": "code",
   "execution_count": 40,
   "metadata": {},
   "outputs": [
    {
     "data": {
      "text/plain": [
       "<seaborn.axisgrid.FacetGrid at 0x14b22ce5608>"
      ]
     },
     "execution_count": 40,
     "metadata": {},
     "output_type": "execute_result"
    },
    {
     "data": {
      "image/png": "[encoded data removed]",
      "text/plain": [
       "<Figure size 360x360 with 1 Axes>"
      ]
     },
     "metadata": {},
     "output_type": "display_data"
    }
   ],
   "source": [
    "sns.lmplot('Confirmed','Recovered',data = district_wise_JK)"
   ]
  },
  {
   "cell_type": "code",
   "execution_count": 41,
   "metadata": {},
   "outputs": [
    {
     "data": {
      "text/plain": [
       "<seaborn.axisgrid.FacetGrid at 0x14b219c4a08>"
      ]
     },
     "execution_count": 41,
     "metadata": {},
     "output_type": "execute_result"
    },
    {
     "data": {
      "image/png": "[encoded data removed]",
      "text/plain": [
       "<Figure size 360x360 with 1 Axes>"
      ]
     },
     "metadata": {},
     "output_type": "display_data"
    }
   ],
   "source": [
    "sns.lmplot('Active','Deceased',data = district_wise_JK)"
   ]
  },
  {
   "cell_type": "code",
   "execution_count": 54,
   "metadata": {},
   "outputs": [],
   "source": [
    "covidData_corr = covidData[[\"Infected\",\"Deaths\",\"Recovered\"]]"
   ]
  },
  {
   "cell_type": "code",
   "execution_count": 152,
   "metadata": {},
   "outputs": [
    {
     "data": {
      "image/png": "[encoded data removed]",
      "text/plain": [
       "<Figure size 432x288 with 2 Axes>"
      ]
     },
     "metadata": {},
     "output_type": "display_data"
    }
   ],
   "source": [
    "sns.heatmap(covidData_corr.corr(),annot = True,linecolor=\"white\",linewidths=1)\n",
    "plt.title(\"Correlation Matrix : India\")\n",
    "plt.savefig(\"Correlation Matrix : India.png\")"
   ]
  },
  {
   "cell_type": "code",
   "execution_count": 59,
   "metadata": {},
   "outputs": [
    {
     "data": {
      "text/html": [
       "<div>\n",
       "<style scoped>\n",
       "    .dataframe tbody tr th:only-of-type {\n",
       "        vertical-align: middle;\n",
       "    }\n",
       "\n",
       "    .dataframe tbody tr th {\n",
       "        vertical-align: top;\n",
       "    }\n",
       "\n",
       "    .dataframe thead th {\n",
       "        text-align: right;\n",
       "    }\n",
       "</style>\n",
       "<table border=\"1\" class=\"dataframe\">\n",
       "  <thead>\n",
       "    <tr style=\"text-align: right;\">\n",
       "      <th></th>\n",
       "      <th>Name of State / UT</th>\n",
       "      <th>Latitude</th>\n",
       "      <th>Longitude</th>\n",
       "      <th>Infected</th>\n",
       "      <th>Deaths</th>\n",
       "      <th>Recovered</th>\n",
       "    </tr>\n",
       "    <tr>\n",
       "      <th>Date</th>\n",
       "      <th></th>\n",
       "      <th></th>\n",
       "      <th></th>\n",
       "      <th></th>\n",
       "      <th></th>\n",
       "      <th></th>\n",
       "    </tr>\n",
       "  </thead>\n",
       "  <tbody>\n",
       "    <tr>\n",
       "      <th>2020-01-30</th>\n",
       "      <td>Kerala</td>\n",
       "      <td>10.8505</td>\n",
       "      <td>76.2711</td>\n",
       "      <td>0</td>\n",
       "      <td>0</td>\n",
       "      <td>0</td>\n",
       "    </tr>\n",
       "    <tr>\n",
       "      <th>2020-01-31</th>\n",
       "      <td>Kerala</td>\n",
       "      <td>10.8505</td>\n",
       "      <td>76.2711</td>\n",
       "      <td>0</td>\n",
       "      <td>0</td>\n",
       "      <td>0</td>\n",
       "    </tr>\n",
       "    <tr>\n",
       "      <th>2020-02-01</th>\n",
       "      <td>Kerala</td>\n",
       "      <td>10.8505</td>\n",
       "      <td>76.2711</td>\n",
       "      <td>1</td>\n",
       "      <td>0</td>\n",
       "      <td>0</td>\n",
       "    </tr>\n",
       "    <tr>\n",
       "      <th>2020-02-02</th>\n",
       "      <td>Kerala</td>\n",
       "      <td>10.8505</td>\n",
       "      <td>76.2711</td>\n",
       "      <td>1</td>\n",
       "      <td>0</td>\n",
       "      <td>0</td>\n",
       "    </tr>\n",
       "    <tr>\n",
       "      <th>2020-02-03</th>\n",
       "      <td>Kerala</td>\n",
       "      <td>10.8505</td>\n",
       "      <td>76.2711</td>\n",
       "      <td>0</td>\n",
       "      <td>0</td>\n",
       "      <td>0</td>\n",
       "    </tr>\n",
       "    <tr>\n",
       "      <th>...</th>\n",
       "      <td>...</td>\n",
       "      <td>...</td>\n",
       "      <td>...</td>\n",
       "      <td>...</td>\n",
       "      <td>...</td>\n",
       "      <td>...</td>\n",
       "    </tr>\n",
       "    <tr>\n",
       "      <th>2020-07-09</th>\n",
       "      <td>Telangana</td>\n",
       "      <td>18.1124</td>\n",
       "      <td>79.0193</td>\n",
       "      <td>1924</td>\n",
       "      <td>11</td>\n",
       "      <td>992</td>\n",
       "    </tr>\n",
       "    <tr>\n",
       "      <th>2020-07-09</th>\n",
       "      <td>Tripura</td>\n",
       "      <td>23.9408</td>\n",
       "      <td>91.9882</td>\n",
       "      <td>57</td>\n",
       "      <td>0</td>\n",
       "      <td>76</td>\n",
       "    </tr>\n",
       "    <tr>\n",
       "      <th>2020-07-09</th>\n",
       "      <td>Uttar Pradesh</td>\n",
       "      <td>26.8467</td>\n",
       "      <td>80.9462</td>\n",
       "      <td>1188</td>\n",
       "      <td>18</td>\n",
       "      <td>704</td>\n",
       "    </tr>\n",
       "    <tr>\n",
       "      <th>2020-07-09</th>\n",
       "      <td>Uttarakhand</td>\n",
       "      <td>30.0668</td>\n",
       "      <td>79.0193</td>\n",
       "      <td>28</td>\n",
       "      <td>3</td>\n",
       "      <td>29</td>\n",
       "    </tr>\n",
       "    <tr>\n",
       "      <th>2020-07-09</th>\n",
       "      <td>West Bengal</td>\n",
       "      <td>22.9868</td>\n",
       "      <td>87.8550</td>\n",
       "      <td>986</td>\n",
       "      <td>23</td>\n",
       "      <td>501</td>\n",
       "    </tr>\n",
       "  </tbody>\n",
       "</table>\n",
       "<p>3720 rows × 6 columns</p>\n",
       "</div>"
      ],
      "text/plain": [
       "           Name of State / UT  Latitude  Longitude  Infected  Deaths  \\\n",
       "Date                                                                   \n",
       "2020-01-30             Kerala   10.8505    76.2711         0       0   \n",
       "2020-01-31             Kerala   10.8505    76.2711         0       0   \n",
       "2020-02-01             Kerala   10.8505    76.2711         1       0   \n",
       "2020-02-02             Kerala   10.8505    76.2711         1       0   \n",
       "2020-02-03             Kerala   10.8505    76.2711         0       0   \n",
       "...                       ...       ...        ...       ...     ...   \n",
       "2020-07-09          Telangana   18.1124    79.0193      1924      11   \n",
       "2020-07-09            Tripura   23.9408    91.9882        57       0   \n",
       "2020-07-09      Uttar Pradesh   26.8467    80.9462      1188      18   \n",
       "2020-07-09        Uttarakhand   30.0668    79.0193        28       3   \n",
       "2020-07-09        West Bengal   22.9868    87.8550       986      23   \n",
       "\n",
       "            Recovered  \n",
       "Date                   \n",
       "2020-01-30          0  \n",
       "2020-01-31          0  \n",
       "2020-02-01          0  \n",
       "2020-02-02          0  \n",
       "2020-02-03          0  \n",
       "...               ...  \n",
       "2020-07-09        992  \n",
       "2020-07-09         76  \n",
       "2020-07-09        704  \n",
       "2020-07-09         29  \n",
       "2020-07-09        501  \n",
       "\n",
       "[3720 rows x 6 columns]"
      ]
     },
     "execution_count": 59,
     "metadata": {},
     "output_type": "execute_result"
    }
   ],
   "source": [
    "covidData"
   ]
  },
  {
   "cell_type": "code",
   "execution_count": 77,
   "metadata": {},
   "outputs": [
    {
     "data": {
      "text/html": [
       "<div>\n",
       "<style scoped>\n",
       "    .dataframe tbody tr th:only-of-type {\n",
       "        vertical-align: middle;\n",
       "    }\n",
       "\n",
       "    .dataframe tbody tr th {\n",
       "        vertical-align: top;\n",
       "    }\n",
       "\n",
       "    .dataframe thead th {\n",
       "        text-align: right;\n",
       "    }\n",
       "</style>\n",
       "<table border=\"1\" class=\"dataframe\">\n",
       "  <thead>\n",
       "    <tr style=\"text-align: right;\">\n",
       "      <th></th>\n",
       "      <th>Infected</th>\n",
       "      <th>Recovered</th>\n",
       "    </tr>\n",
       "    <tr>\n",
       "      <th>Date</th>\n",
       "      <th></th>\n",
       "      <th></th>\n",
       "    </tr>\n",
       "  </thead>\n",
       "  <tbody>\n",
       "    <tr>\n",
       "      <th>2020-01-30</th>\n",
       "      <td>0</td>\n",
       "      <td>0</td>\n",
       "    </tr>\n",
       "    <tr>\n",
       "      <th>2020-01-31</th>\n",
       "      <td>0</td>\n",
       "      <td>0</td>\n",
       "    </tr>\n",
       "    <tr>\n",
       "      <th>2020-02-01</th>\n",
       "      <td>1</td>\n",
       "      <td>0</td>\n",
       "    </tr>\n",
       "    <tr>\n",
       "      <th>2020-02-02</th>\n",
       "      <td>1</td>\n",
       "      <td>0</td>\n",
       "    </tr>\n",
       "    <tr>\n",
       "      <th>2020-02-03</th>\n",
       "      <td>0</td>\n",
       "      <td>0</td>\n",
       "    </tr>\n",
       "    <tr>\n",
       "      <th>...</th>\n",
       "      <td>...</td>\n",
       "      <td>...</td>\n",
       "    </tr>\n",
       "    <tr>\n",
       "      <th>2020-07-09</th>\n",
       "      <td>1924</td>\n",
       "      <td>992</td>\n",
       "    </tr>\n",
       "    <tr>\n",
       "      <th>2020-07-09</th>\n",
       "      <td>57</td>\n",
       "      <td>76</td>\n",
       "    </tr>\n",
       "    <tr>\n",
       "      <th>2020-07-09</th>\n",
       "      <td>1188</td>\n",
       "      <td>704</td>\n",
       "    </tr>\n",
       "    <tr>\n",
       "      <th>2020-07-09</th>\n",
       "      <td>28</td>\n",
       "      <td>29</td>\n",
       "    </tr>\n",
       "    <tr>\n",
       "      <th>2020-07-09</th>\n",
       "      <td>986</td>\n",
       "      <td>501</td>\n",
       "    </tr>\n",
       "  </tbody>\n",
       "</table>\n",
       "<p>3720 rows × 2 columns</p>\n",
       "</div>"
      ],
      "text/plain": [
       "            Infected  Recovered\n",
       "Date                           \n",
       "2020-01-30         0          0\n",
       "2020-01-31         0          0\n",
       "2020-02-01         1          0\n",
       "2020-02-02         1          0\n",
       "2020-02-03         0          0\n",
       "...              ...        ...\n",
       "2020-07-09      1924        992\n",
       "2020-07-09        57         76\n",
       "2020-07-09      1188        704\n",
       "2020-07-09        28         29\n",
       "2020-07-09       986        501\n",
       "\n",
       "[3720 rows x 2 columns]"
      ]
     },
     "execution_count": 77,
     "metadata": {},
     "output_type": "execute_result"
    }
   ],
   "source": [
    "X= covidData[['Infected','Recovered']]\n",
    "y = covidData['Deaths']"
   ]
  },
  {
   "cell_type": "markdown",
   "metadata": {},
   "source": [
    "**PART C**"
   ]
  },
  {
   "cell_type": "code",
   "execution_count": 85,
   "metadata": {},
   "outputs": [],
   "source": [
    "from sklearn.model_selection import train_test_split\n",
    "from sklearn.linear_model import LinearRegression\n",
    "from sklearn import metrics"
   ]
  },
  {
   "cell_type": "code",
   "execution_count": 66,
   "metadata": {},
   "outputs": [],
   "source": [
    "X_train, X_test, y_train, y_test = train_test_split(X, y, test_size=0.33, random_state=42)"
   ]
  },
  {
   "cell_type": "code",
   "execution_count": 78,
   "metadata": {},
   "outputs": [
    {
     "data": {
      "text/plain": [
       "LinearRegression(copy_X=True, fit_intercept=True, n_jobs=None, normalize=False)"
      ]
     },
     "execution_count": 78,
     "metadata": {},
     "output_type": "execute_result"
    }
   ],
   "source": [
    "lm= LinearRegression()\n",
    "lm.fit(X_train,y_train)"
   ]
  },
  {
   "cell_type": "code",
   "execution_count": 79,
   "metadata": {},
   "outputs": [],
   "source": [
    "predictions = lm.predict(X_test)"
   ]
  },
  {
   "cell_type": "code",
   "execution_count": 80,
   "metadata": {},
   "outputs": [
    {
     "data": {
      "text/plain": [
       "array([ 0.42439328,  9.19046311,  0.42439328, ..., -0.69740552,\n",
       "       -0.69740552, -0.59223688])"
      ]
     },
     "execution_count": 80,
     "metadata": {},
     "output_type": "execute_result"
    }
   ],
   "source": [
    "predictions"
   ]
  },
  {
   "cell_type": "code",
   "execution_count": 82,
   "metadata": {},
   "outputs": [
    {
     "data": {
      "text/plain": [
       "-0.697405516704027"
      ]
     },
     "execution_count": 82,
     "metadata": {},
     "output_type": "execute_result"
    }
   ],
   "source": [
    "lm.intercept_"
   ]
  },
  {
   "cell_type": "code",
   "execution_count": 83,
   "metadata": {
    "scrolled": true
   },
   "outputs": [
    {
     "data": {
      "text/html": [
       "<div>\n",
       "<style scoped>\n",
       "    .dataframe tbody tr th:only-of-type {\n",
       "        vertical-align: middle;\n",
       "    }\n",
       "\n",
       "    .dataframe tbody tr th {\n",
       "        vertical-align: top;\n",
       "    }\n",
       "\n",
       "    .dataframe thead th {\n",
       "        text-align: right;\n",
       "    }\n",
       "</style>\n",
       "<table border=\"1\" class=\"dataframe\">\n",
       "  <thead>\n",
       "    <tr style=\"text-align: right;\">\n",
       "      <th></th>\n",
       "      <th>Coefficient</th>\n",
       "    </tr>\n",
       "  </thead>\n",
       "  <tbody>\n",
       "    <tr>\n",
       "      <th>Infected</th>\n",
       "      <td>0.035056</td>\n",
       "    </tr>\n",
       "    <tr>\n",
       "      <th>Recovered</th>\n",
       "      <td>-0.004136</td>\n",
       "    </tr>\n",
       "  </tbody>\n",
       "</table>\n",
       "</div>"
      ],
      "text/plain": [
       "           Coefficient\n",
       "Infected      0.035056\n",
       "Recovered    -0.004136"
      ]
     },
     "execution_count": 83,
     "metadata": {},
     "output_type": "execute_result"
    }
   ],
   "source": [
    "coeff_df = pd.DataFrame(lm.coef_,X.columns,columns=['Coefficient'])\n",
    "coeff_df"
   ]
  },
  {
   "cell_type": "code",
   "execution_count": 86,
   "metadata": {},
   "outputs": [
    {
     "name": "stdout",
     "output_type": "stream",
     "text": [
      "MAE: 3.389425181566728\n",
      "MSE: 124.18759287838773\n",
      "RMSE: 11.143948711223851\n"
     ]
    }
   ],
   "source": [
    "print('MAE:', metrics.mean_absolute_error(y_test, predictions))\n",
    "print('MSE:', metrics.mean_squared_error(y_test, predictions))\n",
    "print('RMSE:', np.sqrt(metrics.mean_squared_error(y_test, predictions)))"
   ]
  },
  {
   "cell_type": "code",
   "execution_count": 91,
   "metadata": {},
   "outputs": [
    {
     "data": {
      "image/png": "[encoded data removed]",
      "text/plain": [
       "<Figure size 432x288 with 1 Axes>"
      ]
     },
     "metadata": {},
     "output_type": "display_data"
    }
   ],
   "source": [
    "#plt.scatter(y_test,predictions)\n",
    "sns.regplot(y_test,predictions)\n",
    "plt.title(\"Regression Plot\")\n",
    "plt.savefig('RegressionPlot.png')"
   ]
  },
  {
   "cell_type": "markdown",
   "metadata": {},
   "source": [
    "**PART D**"
   ]
  },
  {
   "cell_type": "code",
   "execution_count": 93,
   "metadata": {},
   "outputs": [],
   "source": [
    "covid_severity = pd.read_excel(\"PAML_COVID_Dataset.xlsx\")"
   ]
  },
  {
   "cell_type": "code",
   "execution_count": 94,
   "metadata": {},
   "outputs": [
    {
     "data": {
      "text/html": [
       "<div>\n",
       "<style scoped>\n",
       "    .dataframe tbody tr th:only-of-type {\n",
       "        vertical-align: middle;\n",
       "    }\n",
       "\n",
       "    .dataframe tbody tr th {\n",
       "        vertical-align: top;\n",
       "    }\n",
       "\n",
       "    .dataframe thead th {\n",
       "        text-align: right;\n",
       "    }\n",
       "</style>\n",
       "<table border=\"1\" class=\"dataframe\">\n",
       "  <thead>\n",
       "    <tr style=\"text-align: right;\">\n",
       "      <th></th>\n",
       "      <th>Date</th>\n",
       "      <th>Time</th>\n",
       "      <th>State/UnionTerritory</th>\n",
       "      <th>ConfirmedIndianNational</th>\n",
       "      <th>Gender</th>\n",
       "      <th>ConfirmedForeignNational</th>\n",
       "      <th>Age</th>\n",
       "      <th>Serious symptoms</th>\n",
       "      <th>Less common symptoms</th>\n",
       "      <th>Most common symptoms</th>\n",
       "      <th>Severity</th>\n",
       "      <th>Patient_Status</th>\n",
       "    </tr>\n",
       "  </thead>\n",
       "  <tbody>\n",
       "    <tr>\n",
       "      <th>0</th>\n",
       "      <td>30/01/20</td>\n",
       "      <td>18:00:00</td>\n",
       "      <td>Kerala</td>\n",
       "      <td>1</td>\n",
       "      <td>Male</td>\n",
       "      <td>0</td>\n",
       "      <td>5</td>\n",
       "      <td>difficulty breathing or shortness of breath</td>\n",
       "      <td>diarrhoea</td>\n",
       "      <td>fever</td>\n",
       "      <td>Seviour</td>\n",
       "      <td>Covid</td>\n",
       "    </tr>\n",
       "    <tr>\n",
       "      <th>1</th>\n",
       "      <td>31/01/20</td>\n",
       "      <td>18:00:00</td>\n",
       "      <td>Kerala</td>\n",
       "      <td>1</td>\n",
       "      <td>Female</td>\n",
       "      <td>0</td>\n",
       "      <td>8</td>\n",
       "      <td>chest pain or pressure</td>\n",
       "      <td>sore throat</td>\n",
       "      <td>tiredness</td>\n",
       "      <td>Mild</td>\n",
       "      <td>flu</td>\n",
       "    </tr>\n",
       "    <tr>\n",
       "      <th>2</th>\n",
       "      <td>2020-01-02 00:00:00</td>\n",
       "      <td>18:00:00</td>\n",
       "      <td>Kerala</td>\n",
       "      <td>2</td>\n",
       "      <td>Male</td>\n",
       "      <td>0</td>\n",
       "      <td>39</td>\n",
       "      <td>loss of speech or movement</td>\n",
       "      <td>conjunctivitis</td>\n",
       "      <td>tiredness</td>\n",
       "      <td>Seviour</td>\n",
       "      <td>flu</td>\n",
       "    </tr>\n",
       "    <tr>\n",
       "      <th>3</th>\n",
       "      <td>2020-02-02 00:00:00</td>\n",
       "      <td>18:00:00</td>\n",
       "      <td>Kerala</td>\n",
       "      <td>3</td>\n",
       "      <td>Female</td>\n",
       "      <td>0</td>\n",
       "      <td>63</td>\n",
       "      <td>loss of speech or movement</td>\n",
       "      <td>sore throat</td>\n",
       "      <td>tiredness</td>\n",
       "      <td>Seviour</td>\n",
       "      <td>Covid</td>\n",
       "    </tr>\n",
       "    <tr>\n",
       "      <th>4</th>\n",
       "      <td>2020-03-02 00:00:00</td>\n",
       "      <td>18:00:00</td>\n",
       "      <td>Kerala</td>\n",
       "      <td>3</td>\n",
       "      <td>Male</td>\n",
       "      <td>0</td>\n",
       "      <td>6</td>\n",
       "      <td>chest pain or pressure</td>\n",
       "      <td>a rash on skin, or discolouration of fingers o...</td>\n",
       "      <td>dry cough</td>\n",
       "      <td>Moderate</td>\n",
       "      <td>flu</td>\n",
       "    </tr>\n",
       "  </tbody>\n",
       "</table>\n",
       "</div>"
      ],
      "text/plain": [
       "                  Date      Time State/UnionTerritory ConfirmedIndianNational  \\\n",
       "0             30/01/20  18:00:00               Kerala                       1   \n",
       "1             31/01/20  18:00:00               Kerala                       1   \n",
       "2  2020-01-02 00:00:00  18:00:00               Kerala                       2   \n",
       "3  2020-02-02 00:00:00  18:00:00               Kerala                       3   \n",
       "4  2020-03-02 00:00:00  18:00:00               Kerala                       3   \n",
       "\n",
       "  Gender  ConfirmedForeignNational  Age   \\\n",
       "0   Male                         0     5   \n",
       "1  Female                        0     8   \n",
       "2   Male                         0    39   \n",
       "3  Female                        0    63   \n",
       "4   Male                         0     6   \n",
       "\n",
       "                              Serious symptoms  \\\n",
       "0  difficulty breathing or shortness of breath   \n",
       "1                       chest pain or pressure   \n",
       "2                   loss of speech or movement   \n",
       "3                   loss of speech or movement   \n",
       "4                       chest pain or pressure   \n",
       "\n",
       "                                Less common symptoms Most common symptoms  \\\n",
       "0                                          diarrhoea                fever   \n",
       "1                                        sore throat            tiredness   \n",
       "2                                     conjunctivitis            tiredness   \n",
       "3                                        sore throat            tiredness   \n",
       "4  a rash on skin, or discolouration of fingers o...            dry cough   \n",
       "\n",
       "   Severity Patient_Status   \n",
       "0   Seviour           Covid  \n",
       "1      Mild             flu  \n",
       "2   Seviour             flu  \n",
       "3   Seviour           Covid  \n",
       "4  Moderate             flu  "
      ]
     },
     "execution_count": 94,
     "metadata": {},
     "output_type": "execute_result"
    }
   ],
   "source": [
    "covid_severity.head()"
   ]
  },
  {
   "cell_type": "code",
   "execution_count": 95,
   "metadata": {},
   "outputs": [
    {
     "name": "stdout",
     "output_type": "stream",
     "text": [
      "<class 'pandas.core.frame.DataFrame'>\n",
      "RangeIndex: 3135 entries, 0 to 3134\n",
      "Data columns (total 12 columns):\n",
      " #   Column                    Non-Null Count  Dtype \n",
      "---  ------                    --------------  ----- \n",
      " 0   Date                      3135 non-null   object\n",
      " 1   Time                      3135 non-null   object\n",
      " 2   State/UnionTerritory      3135 non-null   object\n",
      " 3   ConfirmedIndianNational   3135 non-null   object\n",
      " 4   Gender                    3135 non-null   object\n",
      " 5   ConfirmedForeignNational  3135 non-null   object\n",
      " 6   Age                       3135 non-null   int64 \n",
      " 7   Serious symptoms          3135 non-null   object\n",
      " 8   Less common symptoms      3135 non-null   object\n",
      " 9   Most common symptoms      3135 non-null   object\n",
      " 10  Severity                  3135 non-null   object\n",
      " 11  Patient_Status            3135 non-null   object\n",
      "dtypes: int64(1), object(11)\n",
      "memory usage: 294.0+ KB\n"
     ]
    }
   ],
   "source": [
    "covid_severity.info()"
   ]
  },
  {
   "cell_type": "code",
   "execution_count": 102,
   "metadata": {
    "scrolled": false
   },
   "outputs": [
    {
     "data": {
      "text/plain": [
       "[2020-11-06 00:00:00    37\n",
       " 15/06/20               36\n",
       " 2020-03-06 00:00:00    36\n",
       " 2020-09-06 00:00:00    36\n",
       " 16/06/20               36\n",
       "                        ..\n",
       " 14/02/20                1\n",
       " 2020-12-02 00:00:00     1\n",
       " 19/02/20                1\n",
       " 15/02/20                1\n",
       " 27/02/20                1\n",
       " Name: Date, Length: 140, dtype: int64,\n",
       " 08:00:00    1497\n",
       " 17:00:00     899\n",
       " 18:00:00     600\n",
       " 19:30:00      56\n",
       " 20:30:00      28\n",
       " 21:30:00      28\n",
       " 10:00:00      27\n",
       " Name: Time, dtype: int64,\n",
       " Kerala                                      140\n",
       " Delhi                                       108\n",
       " Rajasthan                                   107\n",
       " Haryana                                     106\n",
       " Uttar Pradesh                               106\n",
       " Ladakh                                      103\n",
       " Tamil Nadu                                  103\n",
       " Telengana                                   102\n",
       " Maharashtra                                 101\n",
       " Punjab                                      101\n",
       " Jammu and Kashmir                           101\n",
       " Karnataka                                   101\n",
       " Andhra Pradesh                               98\n",
       " Uttarakhand                                  95\n",
       " Odisha                                       94\n",
       " West Bengal                                  92\n",
       " Puducherry                                   92\n",
       " Chhattisgarh                                 91\n",
       " Chandigarh                                   91\n",
       " Gujarat                                      90\n",
       " Himachal Pradesh                             89\n",
       " Madhya Pradesh                               89\n",
       " Bihar                                        88\n",
       " Manipur                                      86\n",
       " Mizoram                                      85\n",
       " Andaman and Nicobar Islands                  84\n",
       " Goa                                          84\n",
       " Assam                                        78\n",
       " Jharkhand                                    78\n",
       " Arunachal Pradesh                            76\n",
       " Tripura                                      72\n",
       " Meghalaya                                    65\n",
       " Dadar Nagar Haveli                           37\n",
       " Nagaland                                     32\n",
       " Cases being reassigned to states             29\n",
       " Sikkim                                       25\n",
       " Dadra and Nagar Haveli and Daman and Diu      6\n",
       " Telangana                                     6\n",
       " Unassigned                                    3\n",
       " Daman & Diu                                   1\n",
       " Name: State/UnionTerritory, dtype: int64,\n",
       " -      2689\n",
       " 1       108\n",
       " 3        73\n",
       " 2        33\n",
       " 4        21\n",
       "        ... \n",
       " 49        1\n",
       " 46        1\n",
       " 45        1\n",
       " 87        1\n",
       " 101       1\n",
       " Name: ConfirmedIndianNational, Length: 62, dtype: int64,\n",
       " Male      1579\n",
       " Female    1556\n",
       " Name: Gender , dtype: int64,\n",
       " -     2689\n",
       " 0      314\n",
       " 1       39\n",
       " 2       36\n",
       " 14      25\n",
       " 3       12\n",
       " 10       6\n",
       " 8        5\n",
       " 7        3\n",
       " 6        3\n",
       " 11       2\n",
       " 9        1\n",
       " Name: ConfirmedForeignNational, dtype: int64,\n",
       " 69    50\n",
       " 61    49\n",
       " 44    48\n",
       " 54    46\n",
       " 20    43\n",
       "       ..\n",
       " 59    23\n",
       " 72    22\n",
       " 32    21\n",
       " 83    21\n",
       " 52    21\n",
       " Name: Age , Length: 96, dtype: int64,\n",
       " difficulty breathing or shortness of breath    1072\n",
       " chest pain or pressure                         1071\n",
       " loss of speech or movement                      992\n",
       " Name: Serious symptoms, dtype: int64,\n",
       " diarrhoea                                               471\n",
       " a rash on skin, or discolouration of fingers or toes    463\n",
       " loss of taste or smell                                  446\n",
       " headache                                                444\n",
       " sore throat                                             443\n",
       " aches and pains                                         440\n",
       " conjunctivitis                                          428\n",
       " Name: Less common symptoms, dtype: int64,\n",
       " tiredness    1054\n",
       " dry cough    1047\n",
       " fever        1034\n",
       " Name: Most common symptoms, dtype: int64,\n",
       " Moderate    1071\n",
       " Mild        1043\n",
       " Seviour     1021\n",
       " Name: Severity, dtype: int64,\n",
       " flu      1592\n",
       " Covid    1543\n",
       " Name: Patient_Status , dtype: int64]"
      ]
     },
     "execution_count": 102,
     "metadata": {},
     "output_type": "execute_result"
    }
   ],
   "source": [
    "[covid_severity[i].value_counts() for i in covid_severity.columns]"
   ]
  },
  {
   "cell_type": "code",
   "execution_count": 103,
   "metadata": {},
   "outputs": [],
   "source": [
    "from sklearn.preprocessing import LabelEncoder\n",
    "status = LabelEncoder()"
   ]
  },
  {
   "cell_type": "code",
   "execution_count": 108,
   "metadata": {},
   "outputs": [],
   "source": [
    "covid_severity['Patient_Status '] =status.fit_transform(covid_severity['Patient_Status '].astype('str'))"
   ]
  },
  {
   "cell_type": "code",
   "execution_count": null,
   "metadata": {},
   "outputs": [],
   "source": [
    "covid_severity['Patient_Status ']"
   ]
  },
  {
   "cell_type": "code",
   "execution_count": 128,
   "metadata": {},
   "outputs": [],
   "source": [
    "\n",
    "covid_severity['Serious symptoms'] =status.fit_transform(covid_severity['Serious symptoms'].astype('str'))\n",
    "covid_severity['Less common symptoms'] =status.fit_transform(covid_severity['Less common symptoms'].astype('str'))\n",
    "covid_severity['Most common symptoms'] =status.fit_transform(covid_severity['Most common symptoms'].astype('str'))\n",
    "covid_severity['Gender '] =status.fit_transform(covid_severity['Gender '].astype('str'))\n",
    "covid_severity['Severity'] =status.fit_transform(covid_severity['Severity'].astype('str'))\n"
   ]
  },
  {
   "cell_type": "code",
   "execution_count": 130,
   "metadata": {},
   "outputs": [],
   "source": [
    "from sklearn.preprocessing import StandardScaler\n",
    "X=covid_severity[['Gender ','Age ','Serious symptoms','Less common symptoms','Most common symptoms', 'Severity']]\n",
    "y=covid_severity['Patient_Status ']\n",
    "\n",
    "X = StandardScaler().fit(X).transform(X.astype(float))\n"
   ]
  },
  {
   "cell_type": "code",
   "execution_count": 131,
   "metadata": {},
   "outputs": [],
   "source": [
    "X_train, X_test, y_train, y_test = train_test_split( X, y, test_size=0.3)"
   ]
  },
  {
   "cell_type": "code",
   "execution_count": 132,
   "metadata": {},
   "outputs": [],
   "source": [
    "from sklearn.neighbors import KNeighborsClassifier"
   ]
  },
  {
   "cell_type": "code",
   "execution_count": 149,
   "metadata": {},
   "outputs": [
    {
     "data": {
      "text/plain": [
       "KNeighborsClassifier(algorithm='auto', leaf_size=30, metric='minkowski',\n",
       "                     metric_params=None, n_jobs=None, n_neighbors=2, p=2,\n",
       "                     weights='uniform')"
      ]
     },
     "execution_count": 149,
     "metadata": {},
     "output_type": "execute_result"
    }
   ],
   "source": [
    "k=2\n",
    "#Train Model and Predict  \n",
    "nh = KNeighborsClassifier(n_neighbors = k).fit(X_train,y_train)\n",
    "nh"
   ]
  },
  {
   "cell_type": "code",
   "execution_count": 147,
   "metadata": {},
   "outputs": [],
   "source": [
    "predictions = nh.predict(X_test)"
   ]
  },
  {
   "cell_type": "code",
   "execution_count": 148,
   "metadata": {},
   "outputs": [
    {
     "name": "stdout",
     "output_type": "stream",
     "text": [
      "Train set Accuracy:  0.9845031905195989\n",
      "Test set Accuracy:  0.4952178533475027\n"
     ]
    }
   ],
   "source": [
    "print(\"Train set Accuracy: \", metrics.accuracy_score(y_train, nh.predict(X_train)))\n",
    "print(\"Test set Accuracy: \", metrics.accuracy_score(y_test, predictions))"
   ]
  },
  {
   "cell_type": "code",
   "execution_count": null,
   "metadata": {},
   "outputs": [],
   "source": []
  },
  {
   "cell_type": "code",
   "execution_count": null,
   "metadata": {},
   "outputs": [],
   "source": []
  },
  {
   "cell_type": "code",
   "execution_count": null,
   "metadata": {},
   "outputs": [],
   "source": []
  }
 ],
 "metadata": {
  "kernelspec": {
   "display_name": "Python 3",
   "language": "python",
   "name": "python3"
  },
  "language_info": {
   "codemirror_mode": {
    "name": "ipython",
    "version": 3
   },
   "file_extension": ".py",
   "mimetype": "text/x-python",
   "name": "python",
   "nbconvert_exporter": "python",
   "pygments_lexer": "ipython3",
   "version": "3.7.6"
  }
 },
 "nbformat": 4,
 "nbformat_minor": 4
}
