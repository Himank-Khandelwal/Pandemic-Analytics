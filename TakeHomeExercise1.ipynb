{
 "cells": [
  {
   "cell_type": "code",
   "execution_count": 1,
   "metadata": {},
   "outputs": [],
   "source": [
    "CovidData = {'Maharashtra': 180298,\n",
    " 'Tamil Nadu': 94049,\n",
    " 'Delhi': 89802,\n",
    " 'Gujarat': 33232,\n",
    " 'Uttar Pradesh': 24056,\n",
    " 'West Bengal': 19170,\n",
    " 'Rajasthan': 18312,\n",
    " 'Telengana': 17357,\n",
    " 'Karnataka': 16514,\n",
    " 'Andhra Pradesh': 15252,\n",
    " 'Haryana': 14941,\n",
    " 'Madhya Pradesh': 13861,\n",
    " 'Bihar': 10249,\n",
    " 'Assam': 8582,\n",
    " 'Jammu and Kashmir': 7695,\n",
    " 'Odisha': 7316,\n",
    " 'Punjab': 5668,\n",
    " 'Kerala': 4593,\n",
    " 'Uttarakhand': 2947,\n",
    " 'Chhattisgarh': 2940,\n",
    " 'Jharkhand': 2521,\n",
    " 'Tripura': 1396,\n",
    " 'Goa': 1387,\n",
    " 'Manipur': 1260,\n",
    " 'Ladakh': 990,\n",
    " 'Himachal Pradesh': 979,\n",
    " 'Puducherry': 714,\n",
    " 'Nagaland': 459,\n",
    " 'Chandigarh': 446,\n",
    " 'Dadra and Nagar Haveli': 215,\n",
    " 'Arunachal Pradesh': 195,\n",
    " 'Mizoram': 160,\n",
    " 'Sikkim': 101,\n",
    " 'Andaman and Nicobar': 100,\n",
    " 'Meghalaya': 52,\n",
    " 'Lakshadweep': 0}"
   ]
  },
  {
   "cell_type": "code",
   "execution_count": 2,
   "metadata": {},
   "outputs": [
    {
     "data": {
      "text/plain": [
       "{'Maharashtra': 180298,\n",
       " 'Tamil Nadu': 94049,\n",
       " 'Delhi': 89802,\n",
       " 'Gujarat': 33232,\n",
       " 'Uttar Pradesh': 24056,\n",
       " 'West Bengal': 19170,\n",
       " 'Rajasthan': 18312,\n",
       " 'Telengana': 17357,\n",
       " 'Karnataka': 16514,\n",
       " 'Andhra Pradesh': 15252,\n",
       " 'Haryana': 14941,\n",
       " 'Madhya Pradesh': 13861,\n",
       " 'Bihar': 10249,\n",
       " 'Assam': 8582,\n",
       " 'Jammu and Kashmir': 7695,\n",
       " 'Odisha': 7316,\n",
       " 'Punjab': 5668,\n",
       " 'Kerala': 4593,\n",
       " 'Uttarakhand': 2947,\n",
       " 'Chhattisgarh': 2940,\n",
       " 'Jharkhand': 2521,\n",
       " 'Tripura': 1396,\n",
       " 'Goa': 1387,\n",
       " 'Manipur': 1260,\n",
       " 'Ladakh': 990,\n",
       " 'Himachal Pradesh': 979,\n",
       " 'Puducherry': 714,\n",
       " 'Nagaland': 459,\n",
       " 'Chandigarh': 446,\n",
       " 'Dadra and Nagar Haveli': 215,\n",
       " 'Arunachal Pradesh': 195,\n",
       " 'Mizoram': 160,\n",
       " 'Sikkim': 101,\n",
       " 'Andaman and Nicobar': 100,\n",
       " 'Meghalaya': 52,\n",
       " 'Lakshadweep': 0}"
      ]
     },
     "execution_count": 2,
     "metadata": {},
     "output_type": "execute_result"
    }
   ],
   "source": [
    "CovidData"
   ]
  },
  {
   "cell_type": "code",
   "execution_count": null,
   "metadata": {},
   "outputs": [],
   "source": []
  }
 ],
 "metadata": {
  "kernelspec": {
   "display_name": "Python 3",
   "language": "python",
   "name": "python3"
  },
  "language_info": {
   "codemirror_mode": {
    "name": "ipython",
    "version": 3
   },
   "file_extension": ".py",
   "mimetype": "text/x-python",
   "name": "python",
   "nbconvert_exporter": "python",
   "pygments_lexer": "ipython3",
   "version": "3.7.6"
  }
 },
 "nbformat": 4,
 "nbformat_minor": 4
}
