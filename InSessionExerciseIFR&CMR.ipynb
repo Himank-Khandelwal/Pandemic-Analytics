{
 "cells": [
  {
   "cell_type": "markdown",
   "metadata": {},
   "source": [
    "**Say for district “Mumbai”\n",
    "• Infected total till date = 136596\n",
    "• Recovered till date = 67890\n",
    "• Deaths till date = 5732\n",
    "Use ifr function and calculate the IFR\n",
    "Build a function for CMR (Crude Mortality\n",
    "Rate)**"
   ]
  },
  {
   "cell_type": "code",
   "execution_count": 4,
   "metadata": {},
   "outputs": [],
   "source": [
    "district = 'Mumbai'\n",
    "InfectedTotalTillDate = 136596\n",
    "RecoveredTillDate = 67890\n",
    "DeathsTillDate = 5732\n",
    "\n",
    "IFR = (DeathsTillDate/InfectedTotalTillDate)*100\n",
    "CMR = (DeathsTillDate/InfectedTotalTillDate)*1000000"
   ]
  },
  {
   "cell_type": "code",
   "execution_count": 10,
   "metadata": {},
   "outputs": [
    {
     "name": "stdout",
     "output_type": "stream",
     "text": [
      "IFR is 4.196316143957364 %\n",
      "CMR is 41963.16143957363\n"
     ]
    }
   ],
   "source": [
    "print('IFR is {} %'.format(IFR))\n",
    "print('CMR is {}'.format(CMR))"
   ]
  }
 ],
 "metadata": {
  "kernelspec": {
   "display_name": "Python 3",
   "language": "python",
   "name": "python3"
  },
  "language_info": {
   "codemirror_mode": {
    "name": "ipython",
    "version": 3
   },
   "file_extension": ".py",
   "mimetype": "text/x-python",
   "name": "python",
   "nbconvert_exporter": "python",
   "pygments_lexer": "ipython3",
   "version": "3.7.6"
  }
 },
 "nbformat": 4,
 "nbformat_minor": 4
}
